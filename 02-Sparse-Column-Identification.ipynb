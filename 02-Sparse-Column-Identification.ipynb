{
 "cells": [
  {
   "cell_type": "markdown",
   "metadata": {},
   "source": [
    "# Identifying \"sparse columns\" --- columns without predictive information"
   ]
  },
  {
   "cell_type": "markdown",
   "metadata": {},
   "source": [
    "We use the following data set\n",
    "https://www.kaggle.com/datasets/ashrafkhan94/oil-spill"
   ]
  },
  {
   "cell_type": "code",
   "execution_count": 67,
   "metadata": {},
   "outputs": [],
   "source": [
    "import pandas as pd\n",
    "df = pd.read_csv('wildfires_clean.csv')"
   ]
  },
  {
   "cell_type": "code",
   "execution_count": 68,
   "metadata": {},
   "outputs": [
    {
     "data": {
      "text/html": [
       "<div>\n",
       "<style scoped>\n",
       "    .dataframe tbody tr th:only-of-type {\n",
       "        vertical-align: middle;\n",
       "    }\n",
       "\n",
       "    .dataframe tbody tr th {\n",
       "        vertical-align: top;\n",
       "    }\n",
       "\n",
       "    .dataframe thead th {\n",
       "        text-align: right;\n",
       "    }\n",
       "</style>\n",
       "<table border=\"1\" class=\"dataframe\">\n",
       "  <thead>\n",
       "    <tr style=\"text-align: right;\">\n",
       "      <th></th>\n",
       "      <th>fire_size</th>\n",
       "      <th>fire_name</th>\n",
       "      <th>fire_size_class</th>\n",
       "      <th>stat_cause_descr</th>\n",
       "      <th>latitude</th>\n",
       "      <th>longitude</th>\n",
       "      <th>state</th>\n",
       "      <th>disc_clean_date</th>\n",
       "      <th>cont_clean_date</th>\n",
       "      <th>discovery_month</th>\n",
       "      <th>...</th>\n",
       "      <th>Hum_pre_7</th>\n",
       "      <th>Hum_cont</th>\n",
       "      <th>Prec_pre_30</th>\n",
       "      <th>Prec_pre_15</th>\n",
       "      <th>Prec_pre_7</th>\n",
       "      <th>Prec_cont</th>\n",
       "      <th>remoteness</th>\n",
       "      <th>cause_code</th>\n",
       "      <th>state_code</th>\n",
       "      <th>fire_size_class_code</th>\n",
       "    </tr>\n",
       "  </thead>\n",
       "  <tbody>\n",
       "    <tr>\n",
       "      <th>0</th>\n",
       "      <td>10.0</td>\n",
       "      <td>NaN</td>\n",
       "      <td>C</td>\n",
       "      <td>Missing/Undefined</td>\n",
       "      <td>18.105072</td>\n",
       "      <td>-66.753044</td>\n",
       "      <td>PR</td>\n",
       "      <td>2/11/2007</td>\n",
       "      <td>NaN</td>\n",
       "      <td>2</td>\n",
       "      <td>...</td>\n",
       "      <td>76.381579</td>\n",
       "      <td>78.724370</td>\n",
       "      <td>0.0</td>\n",
       "      <td>0.0</td>\n",
       "      <td>0.0</td>\n",
       "      <td>0.0</td>\n",
       "      <td>0.017923</td>\n",
       "      <td>8</td>\n",
       "      <td>38</td>\n",
       "      <td>1</td>\n",
       "    </tr>\n",
       "    <tr>\n",
       "      <th>1</th>\n",
       "      <td>3.0</td>\n",
       "      <td>NaN</td>\n",
       "      <td>B</td>\n",
       "      <td>Arson</td>\n",
       "      <td>35.038330</td>\n",
       "      <td>-87.610000</td>\n",
       "      <td>TN</td>\n",
       "      <td>12/11/2006</td>\n",
       "      <td>NaN</td>\n",
       "      <td>12</td>\n",
       "      <td>...</td>\n",
       "      <td>55.505882</td>\n",
       "      <td>81.682678</td>\n",
       "      <td>59.8</td>\n",
       "      <td>8.4</td>\n",
       "      <td>0.0</td>\n",
       "      <td>86.8</td>\n",
       "      <td>0.184355</td>\n",
       "      <td>0</td>\n",
       "      <td>42</td>\n",
       "      <td>0</td>\n",
       "    </tr>\n",
       "  </tbody>\n",
       "</table>\n",
       "<p>2 rows × 44 columns</p>\n",
       "</div>"
      ],
      "text/plain": [
       "   fire_size fire_name fire_size_class   stat_cause_descr   latitude  \\\n",
       "0       10.0       NaN               C  Missing/Undefined  18.105072   \n",
       "1        3.0       NaN               B              Arson  35.038330   \n",
       "\n",
       "   longitude state disc_clean_date cont_clean_date  discovery_month  ...  \\\n",
       "0 -66.753044    PR       2/11/2007             NaN                2  ...   \n",
       "1 -87.610000    TN      12/11/2006             NaN               12  ...   \n",
       "\n",
       "   Hum_pre_7   Hum_cont Prec_pre_30 Prec_pre_15  Prec_pre_7 Prec_cont  \\\n",
       "0  76.381579  78.724370         0.0         0.0         0.0       0.0   \n",
       "1  55.505882  81.682678        59.8         8.4         0.0      86.8   \n",
       "\n",
       "  remoteness  cause_code  state_code  fire_size_class_code  \n",
       "0   0.017923           8          38                     1  \n",
       "1   0.184355           0          42                     0  \n",
       "\n",
       "[2 rows x 44 columns]"
      ]
     },
     "execution_count": 68,
     "metadata": {},
     "output_type": "execute_result"
    }
   ],
   "source": [
    "df.head(2)"
   ]
  },
  {
   "cell_type": "code",
   "execution_count": 69,
   "metadata": {},
   "outputs": [
    {
     "data": {
      "text/plain": [
       "Index(['fire_size', 'fire_name', 'fire_size_class', 'stat_cause_descr',\n",
       "       'latitude', 'longitude', 'state', 'disc_clean_date', 'cont_clean_date',\n",
       "       'discovery_month', 'disc_date_final', 'cont_date_final', 'putout_time',\n",
       "       'disc_date_pre', 'disc_pre_year', 'disc_pre_month', 'wstation_usaf',\n",
       "       'dstation_m', 'wstation_wban', 'wstation_byear', 'wstation_eyear',\n",
       "       'Vegetation', 'fire_mag', 'weather_file', 'Temp_pre_30', 'Temp_pre_15',\n",
       "       'Temp_pre_7', 'Temp_cont', 'Wind_pre_30', 'Wind_pre_15', 'Wind_pre_7',\n",
       "       'Wind_cont', 'Hum_pre_30', 'Hum_pre_15', 'Hum_pre_7', 'Hum_cont',\n",
       "       'Prec_pre_30', 'Prec_pre_15', 'Prec_pre_7', 'Prec_cont', 'remoteness',\n",
       "       'cause_code', 'state_code', 'fire_size_class_code'],\n",
       "      dtype='object')"
      ]
     },
     "execution_count": 69,
     "metadata": {},
     "output_type": "execute_result"
    }
   ],
   "source": [
    "df.columns"
   ]
  },
  {
   "cell_type": "code",
   "execution_count": 70,
   "metadata": {},
   "outputs": [
    {
     "data": {
      "text/plain": [
       "(55367, 44)"
      ]
     },
     "execution_count": 70,
     "metadata": {},
     "output_type": "execute_result"
    }
   ],
   "source": [
    "df.shape"
   ]
  },
  {
   "cell_type": "markdown",
   "metadata": {},
   "source": [
    "### Count unique values in each column"
   ]
  },
  {
   "cell_type": "code",
   "execution_count": 71,
   "metadata": {
    "scrolled": true
   },
   "outputs": [
    {
     "data": {
      "text/plain": [
       "fire_size                6092\n",
       "fire_name               21793\n",
       "fire_size_class             6\n",
       "stat_cause_descr           13\n",
       "latitude                46329\n",
       "longitude               49044\n",
       "state                      51\n",
       "disc_clean_date          8114\n",
       "cont_clean_date          7078\n",
       "discovery_month            12\n",
       "disc_date_final         27835\n",
       "cont_date_final         24011\n",
       "putout_time               297\n",
       "disc_date_pre            8114\n",
       "disc_pre_year              25\n",
       "disc_pre_month             12\n",
       "wstation_usaf            2220\n",
       "dstation_m              54009\n",
       "wstation_wban            1570\n",
       "wstation_byear             82\n",
       "wstation_eyear             28\n",
       "Vegetation                  7\n",
       "fire_mag                    6\n",
       "weather_file            11314\n",
       "Temp_pre_30             35523\n",
       "Temp_pre_15             34038\n",
       "Temp_pre_7              32670\n",
       "Temp_cont               22414\n",
       "Wind_pre_30             35028\n",
       "Wind_pre_15             33381\n",
       "Wind_pre_7              31247\n",
       "Wind_cont               21918\n",
       "Hum_pre_30              34352\n",
       "Hum_pre_15              32852\n",
       "Hum_pre_7               31142\n",
       "Hum_cont                21589\n",
       "Prec_pre_30              2654\n",
       "Prec_pre_15              1683\n",
       "Prec_pre_7               1079\n",
       "Prec_cont                2369\n",
       "remoteness              54195\n",
       "cause_code                 13\n",
       "state_code                 51\n",
       "fire_size_class_code        6\n",
       "dtype: int64"
      ]
     },
     "execution_count": 71,
     "metadata": {},
     "output_type": "execute_result"
    }
   ],
   "source": [
    "df.nunique(axis=0)#.head(10)"
   ]
  },
  {
   "cell_type": "code",
   "execution_count": 72,
   "metadata": {},
   "outputs": [
    {
     "data": {
      "text/plain": [
       "Index([], dtype='object')"
      ]
     },
     "execution_count": 72,
     "metadata": {},
     "output_type": "execute_result"
    }
   ],
   "source": [
    "df.columns[df.nunique() == 1]"
   ]
  },
  {
   "cell_type": "markdown",
   "metadata": {},
   "source": [
    "## Calculate the percentage of unique values in each column"
   ]
  },
  {
   "cell_type": "code",
   "execution_count": 73,
   "metadata": {},
   "outputs": [
    {
     "data": {
      "text/plain": [
       "fire_size               11.002944\n",
       "fire_name               39.360991\n",
       "fire_size_class          0.010837\n",
       "stat_cause_descr         0.023480\n",
       "latitude                83.676197\n",
       "longitude               88.579840\n",
       "state                    0.092113\n",
       "disc_clean_date         14.654939\n",
       "cont_clean_date         12.783788\n",
       "discovery_month          0.021674\n",
       "disc_date_final         50.273629\n",
       "cont_date_final         43.366988\n",
       "putout_time              0.536421\n",
       "disc_date_pre           14.654939\n",
       "disc_pre_year            0.045153\n",
       "disc_pre_month           0.021674\n",
       "wstation_usaf            4.009609\n",
       "dstation_m              97.547275\n",
       "wstation_wban            2.835624\n",
       "wstation_byear           0.148103\n",
       "wstation_eyear           0.050572\n",
       "Vegetation               0.012643\n",
       "fire_mag                 0.010837\n",
       "weather_file            20.434555\n",
       "Temp_pre_30             64.159156\n",
       "Temp_pre_15             61.477053\n",
       "Temp_pre_7              59.006267\n",
       "Temp_cont               40.482598\n",
       "Wind_pre_30             63.265122\n",
       "Wind_pre_15             60.290426\n",
       "Wind_pre_7              56.436144\n",
       "Wind_cont               39.586757\n",
       "Hum_pre_30              62.044178\n",
       "Hum_pre_15              59.334983\n",
       "Hum_pre_7               56.246501\n",
       "Hum_cont                38.992541\n",
       "Prec_pre_30              4.793469\n",
       "Prec_pre_15              3.039717\n",
       "Prec_pre_7               1.948814\n",
       "Prec_cont                4.278722\n",
       "remoteness              97.883216\n",
       "cause_code               0.023480\n",
       "state_code               0.092113\n",
       "fire_size_class_code     0.010837\n",
       "dtype: float64"
      ]
     },
     "execution_count": 73,
     "metadata": {},
     "output_type": "execute_result"
    }
   ],
   "source": [
    "df.nunique()/len(df)*100"
   ]
  },
  {
   "attachments": {},
   "cell_type": "markdown",
   "metadata": {},
   "source": [
    "## Columns with less than 1% unique values"
   ]
  },
  {
   "cell_type": "code",
   "execution_count": 74,
   "metadata": {},
   "outputs": [
    {
     "data": {
      "text/plain": [
       "['fire_size_class',\n",
       " 'stat_cause_descr',\n",
       " 'state',\n",
       " 'discovery_month',\n",
       " 'putout_time',\n",
       " 'disc_pre_year',\n",
       " 'disc_pre_month',\n",
       " 'wstation_byear',\n",
       " 'wstation_eyear',\n",
       " 'Vegetation',\n",
       " 'fire_mag',\n",
       " 'cause_code',\n",
       " 'state_code',\n",
       " 'fire_size_class_code']"
      ]
     },
     "execution_count": 74,
     "metadata": {},
     "output_type": "execute_result"
    }
   ],
   "source": [
    "list(df.columns[df.nunique()/len(df) < 0.01])"
   ]
  },
  {
   "cell_type": "markdown",
   "metadata": {},
   "source": [
    "## Using Variance Threshold\n",
    "\n",
    "$s^2 = \\frac{\\sum_1^N(x_i - \\mu)}{N-1}$"
   ]
  },
  {
   "cell_type": "code",
   "execution_count": 75,
   "metadata": {},
   "outputs": [
    {
     "data": {
      "text/html": [
       "<div>\n",
       "<style scoped>\n",
       "    .dataframe tbody tr th:only-of-type {\n",
       "        vertical-align: middle;\n",
       "    }\n",
       "\n",
       "    .dataframe tbody tr th {\n",
       "        vertical-align: top;\n",
       "    }\n",
       "\n",
       "    .dataframe thead th {\n",
       "        text-align: right;\n",
       "    }\n",
       "</style>\n",
       "<table border=\"1\" class=\"dataframe\">\n",
       "  <thead>\n",
       "    <tr style=\"text-align: right;\">\n",
       "      <th></th>\n",
       "      <th>fire_size</th>\n",
       "      <th>fire_name</th>\n",
       "      <th>fire_size_class</th>\n",
       "      <th>stat_cause_descr</th>\n",
       "      <th>latitude</th>\n",
       "      <th>longitude</th>\n",
       "      <th>state</th>\n",
       "      <th>disc_clean_date</th>\n",
       "      <th>cont_clean_date</th>\n",
       "      <th>discovery_month</th>\n",
       "      <th>...</th>\n",
       "      <th>Hum_pre_7</th>\n",
       "      <th>Hum_cont</th>\n",
       "      <th>Prec_pre_30</th>\n",
       "      <th>Prec_pre_15</th>\n",
       "      <th>Prec_pre_7</th>\n",
       "      <th>Prec_cont</th>\n",
       "      <th>remoteness</th>\n",
       "      <th>cause_code</th>\n",
       "      <th>state_code</th>\n",
       "      <th>fire_size_class_code</th>\n",
       "    </tr>\n",
       "  </thead>\n",
       "  <tbody>\n",
       "    <tr>\n",
       "      <th>0</th>\n",
       "      <td>10.0</td>\n",
       "      <td>NaN</td>\n",
       "      <td>C</td>\n",
       "      <td>Missing/Undefined</td>\n",
       "      <td>18.105072</td>\n",
       "      <td>-66.753044</td>\n",
       "      <td>PR</td>\n",
       "      <td>2/11/2007</td>\n",
       "      <td>NaN</td>\n",
       "      <td>2</td>\n",
       "      <td>...</td>\n",
       "      <td>76.381579</td>\n",
       "      <td>78.724370</td>\n",
       "      <td>0.0</td>\n",
       "      <td>0.0</td>\n",
       "      <td>0.0</td>\n",
       "      <td>0.0</td>\n",
       "      <td>0.017923</td>\n",
       "      <td>8</td>\n",
       "      <td>38</td>\n",
       "      <td>1</td>\n",
       "    </tr>\n",
       "    <tr>\n",
       "      <th>1</th>\n",
       "      <td>3.0</td>\n",
       "      <td>NaN</td>\n",
       "      <td>B</td>\n",
       "      <td>Arson</td>\n",
       "      <td>35.038330</td>\n",
       "      <td>-87.610000</td>\n",
       "      <td>TN</td>\n",
       "      <td>12/11/2006</td>\n",
       "      <td>NaN</td>\n",
       "      <td>12</td>\n",
       "      <td>...</td>\n",
       "      <td>55.505882</td>\n",
       "      <td>81.682678</td>\n",
       "      <td>59.8</td>\n",
       "      <td>8.4</td>\n",
       "      <td>0.0</td>\n",
       "      <td>86.8</td>\n",
       "      <td>0.184355</td>\n",
       "      <td>0</td>\n",
       "      <td>42</td>\n",
       "      <td>0</td>\n",
       "    </tr>\n",
       "    <tr>\n",
       "      <th>2</th>\n",
       "      <td>60.0</td>\n",
       "      <td>NaN</td>\n",
       "      <td>C</td>\n",
       "      <td>Arson</td>\n",
       "      <td>34.947800</td>\n",
       "      <td>-88.722500</td>\n",
       "      <td>MS</td>\n",
       "      <td>2/29/2004</td>\n",
       "      <td>NaN</td>\n",
       "      <td>2</td>\n",
       "      <td>...</td>\n",
       "      <td>76.812834</td>\n",
       "      <td>65.063800</td>\n",
       "      <td>168.8</td>\n",
       "      <td>42.2</td>\n",
       "      <td>18.1</td>\n",
       "      <td>124.5</td>\n",
       "      <td>0.194544</td>\n",
       "      <td>0</td>\n",
       "      <td>24</td>\n",
       "      <td>1</td>\n",
       "    </tr>\n",
       "    <tr>\n",
       "      <th>3</th>\n",
       "      <td>1.0</td>\n",
       "      <td>WNA  1</td>\n",
       "      <td>B</td>\n",
       "      <td>Debris Burning</td>\n",
       "      <td>39.641400</td>\n",
       "      <td>-119.308300</td>\n",
       "      <td>NV</td>\n",
       "      <td>6/6/2005</td>\n",
       "      <td>6/6/2005</td>\n",
       "      <td>6</td>\n",
       "      <td>...</td>\n",
       "      <td>35.353846</td>\n",
       "      <td>0.000000</td>\n",
       "      <td>10.4</td>\n",
       "      <td>7.2</td>\n",
       "      <td>0.0</td>\n",
       "      <td>0.0</td>\n",
       "      <td>0.487447</td>\n",
       "      <td>3</td>\n",
       "      <td>32</td>\n",
       "      <td>0</td>\n",
       "    </tr>\n",
       "    <tr>\n",
       "      <th>4</th>\n",
       "      <td>2.0</td>\n",
       "      <td>NaN</td>\n",
       "      <td>B</td>\n",
       "      <td>Miscellaneous</td>\n",
       "      <td>30.700600</td>\n",
       "      <td>-90.591400</td>\n",
       "      <td>LA</td>\n",
       "      <td>9/22/1999</td>\n",
       "      <td>NaN</td>\n",
       "      <td>9</td>\n",
       "      <td>...</td>\n",
       "      <td>-1.000000</td>\n",
       "      <td>-1.000000</td>\n",
       "      <td>-1.0</td>\n",
       "      <td>-1.0</td>\n",
       "      <td>-1.0</td>\n",
       "      <td>-1.0</td>\n",
       "      <td>0.214633</td>\n",
       "      <td>7</td>\n",
       "      <td>17</td>\n",
       "      <td>0</td>\n",
       "    </tr>\n",
       "  </tbody>\n",
       "</table>\n",
       "<p>5 rows × 44 columns</p>\n",
       "</div>"
      ],
      "text/plain": [
       "   fire_size fire_name fire_size_class   stat_cause_descr   latitude  \\\n",
       "0       10.0       NaN               C  Missing/Undefined  18.105072   \n",
       "1        3.0       NaN               B              Arson  35.038330   \n",
       "2       60.0       NaN               C              Arson  34.947800   \n",
       "3        1.0    WNA  1               B     Debris Burning  39.641400   \n",
       "4        2.0       NaN               B      Miscellaneous  30.700600   \n",
       "\n",
       "    longitude state disc_clean_date cont_clean_date  discovery_month  ...  \\\n",
       "0  -66.753044    PR       2/11/2007             NaN                2  ...   \n",
       "1  -87.610000    TN      12/11/2006             NaN               12  ...   \n",
       "2  -88.722500    MS       2/29/2004             NaN                2  ...   \n",
       "3 -119.308300    NV        6/6/2005        6/6/2005                6  ...   \n",
       "4  -90.591400    LA       9/22/1999             NaN                9  ...   \n",
       "\n",
       "   Hum_pre_7   Hum_cont Prec_pre_30 Prec_pre_15  Prec_pre_7 Prec_cont  \\\n",
       "0  76.381579  78.724370         0.0         0.0         0.0       0.0   \n",
       "1  55.505882  81.682678        59.8         8.4         0.0      86.8   \n",
       "2  76.812834  65.063800       168.8        42.2        18.1     124.5   \n",
       "3  35.353846   0.000000        10.4         7.2         0.0       0.0   \n",
       "4  -1.000000  -1.000000        -1.0        -1.0        -1.0      -1.0   \n",
       "\n",
       "  remoteness  cause_code  state_code  fire_size_class_code  \n",
       "0   0.017923           8          38                     1  \n",
       "1   0.184355           0          42                     0  \n",
       "2   0.194544           0          24                     1  \n",
       "3   0.487447           3          32                     0  \n",
       "4   0.214633           7          17                     0  \n",
       "\n",
       "[5 rows x 44 columns]"
      ]
     },
     "execution_count": 75,
     "metadata": {},
     "output_type": "execute_result"
    }
   ],
   "source": [
    "df.head()"
   ]
  },
  {
   "cell_type": "code",
   "execution_count": 76,
   "metadata": {},
   "outputs": [],
   "source": [
    "df2 = df[['cause_code', 'state_code', 'fire_size_class_code', 'Vegetation',\n",
    "       'fire_mag', 'Temp_pre_30', 'Temp_pre_15', 'Temp_pre_7',\n",
    "       'Temp_cont', 'Wind_pre_30', 'Wind_pre_15', 'Wind_pre_7', 'Wind_cont',\n",
    "       'Hum_pre_30', 'Hum_pre_15', 'Hum_pre_7', 'Hum_cont', 'Prec_pre_30',\n",
    "       'Prec_pre_15', 'Prec_pre_7', 'Prec_cont', 'remoteness']]"
   ]
  },
  {
   "cell_type": "code",
   "execution_count": 46,
   "metadata": {},
   "outputs": [],
   "source": [
    "# # y = df.iloc[:,1: ]\n",
    "# y = df.iloc[:, 1:]\n",
    "# y"
   ]
  },
  {
   "cell_type": "code",
   "execution_count": 77,
   "metadata": {},
   "outputs": [
    {
     "name": "stdout",
     "output_type": "stream",
     "text": [
      "(55367, 21) (55367,)\n",
      "(55367, 21)\n"
     ]
    }
   ],
   "source": [
    "from sklearn.feature_selection import VarianceThreshold\n",
    "\n",
    "data = df2.values\n",
    "\n",
    "X = data[:, 1:] #everything except the first column\n",
    "y = data[:, 0] #first column\n",
    "\n",
    "print(X.shape, y.shape)\n",
    "\n",
    "transform = VarianceThreshold()\n",
    "\n",
    "X_sel = transform.fit_transform(X)\n",
    "print(X_sel.shape)"
   ]
  },
  {
   "cell_type": "code",
   "execution_count": 78,
   "metadata": {
    "scrolled": true
   },
   "outputs": [
    {
     "data": {
      "text/plain": [
       "Index([], dtype='object')"
      ]
     },
     "execution_count": 78,
     "metadata": {},
     "output_type": "execute_result"
    }
   ],
   "source": [
    "df2.columns[:-1][~transform.get_support()]"
   ]
  },
  {
   "cell_type": "code",
   "execution_count": 79,
   "metadata": {},
   "outputs": [
    {
     "data": {
      "text/plain": [
       "VarianceThreshold(threshold=0.05)"
      ]
     },
     "execution_count": 79,
     "metadata": {},
     "output_type": "execute_result"
    }
   ],
   "source": [
    "transform = VarianceThreshold(threshold=0.05)\n",
    "transform.fit(X)"
   ]
  },
  {
   "cell_type": "code",
   "execution_count": 80,
   "metadata": {},
   "outputs": [
    {
     "data": {
      "text/plain": [
       "[20]"
      ]
     },
     "execution_count": 80,
     "metadata": {},
     "output_type": "execute_result"
    }
   ],
   "source": [
    "[i for i, b in enumerate(transform.get_support()) if not b]"
   ]
  },
  {
   "cell_type": "code",
   "execution_count": 81,
   "metadata": {},
   "outputs": [
    {
     "ename": "IndexError",
     "evalue": "boolean index did not match indexed array along dimension 0; dimension is 43 but corresponding boolean dimension is 21",
     "output_type": "error",
     "traceback": [
      "\u001b[1;31m---------------------------------------------------------------------------\u001b[0m",
      "\u001b[1;31mIndexError\u001b[0m                                Traceback (most recent call last)",
      "\u001b[1;32m~\\AppData\\Local\\Temp\\ipykernel_25580\\225612078.py\u001b[0m in \u001b[0;36m<module>\u001b[1;34m\u001b[0m\n\u001b[1;32m----> 1\u001b[1;33m \u001b[0mdf\u001b[0m\u001b[1;33m.\u001b[0m\u001b[0mcolumns\u001b[0m\u001b[1;33m[\u001b[0m\u001b[1;33m:\u001b[0m\u001b[1;33m-\u001b[0m\u001b[1;36m1\u001b[0m\u001b[1;33m]\u001b[0m\u001b[1;33m[\u001b[0m\u001b[1;33m~\u001b[0m\u001b[0mtransform\u001b[0m\u001b[1;33m.\u001b[0m\u001b[0mget_support\u001b[0m\u001b[1;33m(\u001b[0m\u001b[1;33m)\u001b[0m\u001b[1;33m]\u001b[0m\u001b[1;33m\u001b[0m\u001b[1;33m\u001b[0m\u001b[0m\n\u001b[0m",
      "\u001b[1;32m~\\AppData\\Roaming\\Python\\Python39\\site-packages\\pandas\\core\\indexes\\base.py\u001b[0m in \u001b[0;36m__getitem__\u001b[1;34m(self, key)\u001b[0m\n\u001b[0;32m   5378\u001b[0m                 \u001b[0mkey\u001b[0m \u001b[1;33m=\u001b[0m \u001b[0mnp\u001b[0m\u001b[1;33m.\u001b[0m\u001b[0masarray\u001b[0m\u001b[1;33m(\u001b[0m\u001b[0mkey\u001b[0m\u001b[1;33m,\u001b[0m \u001b[0mdtype\u001b[0m\u001b[1;33m=\u001b[0m\u001b[0mbool\u001b[0m\u001b[1;33m)\u001b[0m\u001b[1;33m\u001b[0m\u001b[1;33m\u001b[0m\u001b[0m\n\u001b[0;32m   5379\u001b[0m \u001b[1;33m\u001b[0m\u001b[0m\n\u001b[1;32m-> 5380\u001b[1;33m         \u001b[0mresult\u001b[0m \u001b[1;33m=\u001b[0m \u001b[0mgetitem\u001b[0m\u001b[1;33m(\u001b[0m\u001b[0mkey\u001b[0m\u001b[1;33m)\u001b[0m\u001b[1;33m\u001b[0m\u001b[1;33m\u001b[0m\u001b[0m\n\u001b[0m\u001b[0;32m   5381\u001b[0m         \u001b[1;31m# Because we ruled out integer above, we always get an arraylike here\u001b[0m\u001b[1;33m\u001b[0m\u001b[1;33m\u001b[0m\u001b[0m\n\u001b[0;32m   5382\u001b[0m         \u001b[1;32mif\u001b[0m \u001b[0mresult\u001b[0m\u001b[1;33m.\u001b[0m\u001b[0mndim\u001b[0m \u001b[1;33m>\u001b[0m \u001b[1;36m1\u001b[0m\u001b[1;33m:\u001b[0m\u001b[1;33m\u001b[0m\u001b[1;33m\u001b[0m\u001b[0m\n",
      "\u001b[1;31mIndexError\u001b[0m: boolean index did not match indexed array along dimension 0; dimension is 43 but corresponding boolean dimension is 21"
     ]
    }
   ],
   "source": [
    "df.columns[:-1][~transform.get_support()]"
   ]
  },
  {
   "cell_type": "code",
   "execution_count": 82,
   "metadata": {},
   "outputs": [
    {
     "name": "stdout",
     "output_type": "stream",
     "text": [
      "Threshold=0.00, Features=21\n",
      "Threshold=0.05, Features=20\n",
      "Threshold=0.10, Features=20\n",
      "Threshold=0.15, Features=20\n",
      "Threshold=0.20, Features=20\n",
      "Threshold=0.25, Features=20\n",
      "Threshold=0.30, Features=20\n",
      "Threshold=0.35, Features=20\n",
      "Threshold=0.40, Features=20\n",
      "Threshold=0.45, Features=20\n",
      "Threshold=0.50, Features=20\n"
     ]
    },
    {
     "name": "stderr",
     "output_type": "stream",
     "text": [
      "c:\\Users\\mahru\\anaconda3\\lib\\site-packages\\altair\\utils\\core.py:283: FutureWarning: iteritems is deprecated and will be removed in a future version. Use .items instead.\n",
      "  for col_name, dtype in df.dtypes.iteritems():\n"
     ]
    },
    {
     "data": {
      "text/html": [
       "\n",
       "<div id=\"altair-viz-f52943ee58944ff99b4d3550c552f9fe\"></div>\n",
       "<script type=\"text/javascript\">\n",
       "  (function(spec, embedOpt){\n",
       "    let outputDiv = document.currentScript.previousElementSibling;\n",
       "    if (outputDiv.id !== \"altair-viz-f52943ee58944ff99b4d3550c552f9fe\") {\n",
       "      outputDiv = document.getElementById(\"altair-viz-f52943ee58944ff99b4d3550c552f9fe\");\n",
       "    }\n",
       "    const paths = {\n",
       "      \"vega\": \"https://cdn.jsdelivr.net/npm//vega@5?noext\",\n",
       "      \"vega-lib\": \"https://cdn.jsdelivr.net/npm//vega-lib?noext\",\n",
       "      \"vega-lite\": \"https://cdn.jsdelivr.net/npm//vega-lite@4.8.1?noext\",\n",
       "      \"vega-embed\": \"https://cdn.jsdelivr.net/npm//vega-embed@6?noext\",\n",
       "    };\n",
       "\n",
       "    function loadScript(lib) {\n",
       "      return new Promise(function(resolve, reject) {\n",
       "        var s = document.createElement('script');\n",
       "        s.src = paths[lib];\n",
       "        s.async = true;\n",
       "        s.onload = () => resolve(paths[lib]);\n",
       "        s.onerror = () => reject(`Error loading script: ${paths[lib]}`);\n",
       "        document.getElementsByTagName(\"head\")[0].appendChild(s);\n",
       "      });\n",
       "    }\n",
       "\n",
       "    function showError(err) {\n",
       "      outputDiv.innerHTML = `<div class=\"error\" style=\"color:red;\">${err}</div>`;\n",
       "      throw err;\n",
       "    }\n",
       "\n",
       "    function displayChart(vegaEmbed) {\n",
       "      vegaEmbed(outputDiv, spec, embedOpt)\n",
       "        .catch(err => showError(`Javascript Error: ${err.message}<br>This usually means there's a typo in your chart specification. See the javascript console for the full traceback.`));\n",
       "    }\n",
       "\n",
       "    if(typeof define === \"function\" && define.amd) {\n",
       "      requirejs.config({paths});\n",
       "      require([\"vega-embed\"], displayChart, err => showError(`Error loading script: ${err.message}`));\n",
       "    } else if (typeof vegaEmbed === \"function\") {\n",
       "      displayChart(vegaEmbed);\n",
       "    } else {\n",
       "      loadScript(\"vega\")\n",
       "        .then(() => loadScript(\"vega-lite\"))\n",
       "        .then(() => loadScript(\"vega-embed\"))\n",
       "        .catch(showError)\n",
       "        .then(() => displayChart(vegaEmbed));\n",
       "    }\n",
       "  })({\"config\": {\"view\": {\"continuousWidth\": 400, \"continuousHeight\": 300}}, \"data\": {\"name\": \"data-2ddfa1deda9cd3d25ae53b6c482eba9d\"}, \"mark\": \"line\", \"encoding\": {\"x\": {\"type\": \"quantitative\", \"field\": \"threshold\"}, \"y\": {\"type\": \"quantitative\", \"field\": \"n_features\"}}, \"$schema\": \"https://vega.github.io/schema/vega-lite/v4.8.1.json\", \"datasets\": {\"data-2ddfa1deda9cd3d25ae53b6c482eba9d\": [{\"threshold\": 0.0, \"n_features\": 21}, {\"threshold\": 0.05, \"n_features\": 20}, {\"threshold\": 0.1, \"n_features\": 20}, {\"threshold\": 0.15000000000000002, \"n_features\": 20}, {\"threshold\": 0.2, \"n_features\": 20}, {\"threshold\": 0.25, \"n_features\": 20}, {\"threshold\": 0.30000000000000004, \"n_features\": 20}, {\"threshold\": 0.35000000000000003, \"n_features\": 20}, {\"threshold\": 0.4, \"n_features\": 20}, {\"threshold\": 0.45, \"n_features\": 20}, {\"threshold\": 0.5, \"n_features\": 20}]}}, {\"mode\": \"vega-lite\"});\n",
       "</script>"
      ],
      "text/plain": [
       "alt.Chart(...)"
      ]
     },
     "execution_count": 82,
     "metadata": {},
     "output_type": "execute_result"
    }
   ],
   "source": [
    "from numpy import arange\n",
    "import altair as alt\n",
    "\n",
    "# df = pd.read_csv('oil-spill.csv', header=None)\n",
    "\n",
    "# data = df.values\n",
    "# X = data[:, :-1]\n",
    "# y = data[:, -1]\n",
    "\n",
    "# print(X.shape, y.shape)\n",
    "\n",
    "thresholds = arange(0.0, 0.55, 0.05)\n",
    "\n",
    "results = []\n",
    "for t in thresholds:\n",
    "    \n",
    "    transform = VarianceThreshold(threshold=t)\n",
    "    \n",
    "    X_sel = transform.fit_transform(X)\n",
    "    rows, cols = X_sel.shape\n",
    "    n_features = cols\n",
    "    print('Threshold=%.2f, Features=%d' % (t, n_features))\n",
    "    \n",
    "    results.append(n_features)\n",
    "    \n",
    "d2 = pd.DataFrame({'threshold': thresholds, 'n_features': results})\n",
    "alt.Chart(d2).mark_line().encode(\n",
    "    x='threshold',\n",
    "    y='n_features')"
   ]
  },
  {
   "cell_type": "code",
   "execution_count": null,
   "metadata": {},
   "outputs": [],
   "source": []
  }
 ],
 "metadata": {
  "kernelspec": {
   "display_name": "Python 3 (ipykernel)",
   "language": "python",
   "name": "python3"
  },
  "language_info": {
   "codemirror_mode": {
    "name": "ipython",
    "version": 3
   },
   "file_extension": ".py",
   "mimetype": "text/x-python",
   "name": "python",
   "nbconvert_exporter": "python",
   "pygments_lexer": "ipython3",
   "version": "3.9.13"
  }
 },
 "nbformat": 4,
 "nbformat_minor": 2
}
