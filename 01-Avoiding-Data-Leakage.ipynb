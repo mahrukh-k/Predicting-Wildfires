{
 "cells": [
  {
   "cell_type": "markdown",
   "metadata": {
    "id": "7fHmHRZTAiFF"
   },
   "source": [
    "# Data Leakage and its Avoidance\n",
    "\n",
    "If our workflow is:\n",
    "1. Prepare the data set (eliminate redundancy, impute, scale, ...)\n",
    "2. Split the data set\n",
    "3. Evaluate the model\n",
    "then information from the test set contaminates the preparation and fitting of the training data\n",
    "\n",
    "To avoid this the workflow should be:\n",
    "1. Split the data set\n",
    "2. **Prepare using the training data set**\n",
    "3. **Apply the same preparation to the Training and Test data sets**\n",
    "4. Evaluate the model\n"
   ]
  },
  {
   "cell_type": "code",
   "execution_count": 69,
   "metadata": {
    "executionInfo": {
     "elapsed": 1341,
     "status": "ok",
     "timestamp": 1650492333215,
     "user": {
      "displayName": "Raja Sooriamurthi",
      "userId": "11358474519609094405"
     },
     "user_tz": 240
    },
    "id": "jztJWEUcAiFK"
   },
   "outputs": [],
   "source": [
    "from sklearn.datasets import make_classification\n",
    "from sklearn.model_selection import train_test_split\n",
    "from sklearn.preprocessing import MinMaxScaler\n",
    "\n",
    "from sklearn.metrics import mean_squared_error\n",
    "from sklearn.linear_model import LinearRegression\n",
    "from sklearn.preprocessing import PolynomialFeatures\n",
    "from sklearn.linear_model import Ridge, RidgeCV, Lasso, LassoCV\n",
    "from sklearn.feature_selection import SequentialFeatureSelector\n",
    "\n",
    "from sklearn.linear_model import LogisticRegression\n",
    "from sklearn.model_selection import cross_val_score\n",
    "from sklearn.model_selection import RepeatedStratifiedKFold\n",
    "from sklearn.metrics import accuracy_score\n",
    "import pandas as pd"
   ]
  },
  {
   "cell_type": "code",
   "execution_count": 70,
   "metadata": {},
   "outputs": [
    {
     "data": {
      "text/html": [
       "<div>\n",
       "<style scoped>\n",
       "    .dataframe tbody tr th:only-of-type {\n",
       "        vertical-align: middle;\n",
       "    }\n",
       "\n",
       "    .dataframe tbody tr th {\n",
       "        vertical-align: top;\n",
       "    }\n",
       "\n",
       "    .dataframe thead th {\n",
       "        text-align: right;\n",
       "    }\n",
       "</style>\n",
       "<table border=\"1\" class=\"dataframe\">\n",
       "  <thead>\n",
       "    <tr style=\"text-align: right;\">\n",
       "      <th></th>\n",
       "      <th>Unnamed: 0.1</th>\n",
       "      <th>Unnamed: 0</th>\n",
       "      <th>fire_name</th>\n",
       "      <th>fire_size</th>\n",
       "      <th>fire_size_class</th>\n",
       "      <th>stat_cause_descr</th>\n",
       "      <th>latitude</th>\n",
       "      <th>longitude</th>\n",
       "      <th>state</th>\n",
       "      <th>disc_clean_date</th>\n",
       "      <th>cont_clean_date</th>\n",
       "      <th>discovery_month</th>\n",
       "      <th>disc_date_final</th>\n",
       "      <th>cont_date_final</th>\n",
       "      <th>putout_time</th>\n",
       "      <th>disc_date_pre</th>\n",
       "      <th>disc_pre_year</th>\n",
       "      <th>disc_pre_month</th>\n",
       "      <th>wstation_usaf</th>\n",
       "      <th>dstation_m</th>\n",
       "      <th>wstation_wban</th>\n",
       "      <th>wstation_byear</th>\n",
       "      <th>wstation_eyear</th>\n",
       "      <th>Vegetation</th>\n",
       "      <th>fire_mag</th>\n",
       "      <th>weather_file</th>\n",
       "      <th>Temp_pre_30</th>\n",
       "      <th>Temp_pre_15</th>\n",
       "      <th>Temp_pre_7</th>\n",
       "      <th>Temp_cont</th>\n",
       "      <th>Wind_pre_30</th>\n",
       "      <th>Wind_pre_15</th>\n",
       "      <th>Wind_pre_7</th>\n",
       "      <th>Wind_cont</th>\n",
       "      <th>Hum_pre_30</th>\n",
       "      <th>Hum_pre_15</th>\n",
       "      <th>Hum_pre_7</th>\n",
       "      <th>Hum_cont</th>\n",
       "      <th>Prec_pre_30</th>\n",
       "      <th>Prec_pre_15</th>\n",
       "      <th>Prec_pre_7</th>\n",
       "      <th>Prec_cont</th>\n",
       "      <th>remoteness</th>\n",
       "    </tr>\n",
       "  </thead>\n",
       "  <tbody>\n",
       "    <tr>\n",
       "      <th>0</th>\n",
       "      <td>0</td>\n",
       "      <td>0</td>\n",
       "      <td>NaN</td>\n",
       "      <td>10.0</td>\n",
       "      <td>C</td>\n",
       "      <td>Missing/Undefined</td>\n",
       "      <td>18.105072</td>\n",
       "      <td>-66.753044</td>\n",
       "      <td>PR</td>\n",
       "      <td>2/11/2007</td>\n",
       "      <td>NaN</td>\n",
       "      <td>Feb</td>\n",
       "      <td>NaN</td>\n",
       "      <td>NaN</td>\n",
       "      <td>NaN</td>\n",
       "      <td>1/12/2007</td>\n",
       "      <td>2007</td>\n",
       "      <td>Jan</td>\n",
       "      <td>785140</td>\n",
       "      <td>58917.69716</td>\n",
       "      <td>11603</td>\n",
       "      <td>1945</td>\n",
       "      <td>2018</td>\n",
       "      <td>12</td>\n",
       "      <td>1.0</td>\n",
       "      <td>785140-11603-2007.gz</td>\n",
       "      <td>24.480974</td>\n",
       "      <td>24.716923</td>\n",
       "      <td>24.902597</td>\n",
       "      <td>24.527961</td>\n",
       "      <td>4.341807</td>\n",
       "      <td>3.492857</td>\n",
       "      <td>3.262092</td>\n",
       "      <td>3.250413</td>\n",
       "      <td>78.21659</td>\n",
       "      <td>76.793750</td>\n",
       "      <td>76.381579</td>\n",
       "      <td>78.724370</td>\n",
       "      <td>0.0</td>\n",
       "      <td>0.0</td>\n",
       "      <td>0.0</td>\n",
       "      <td>0.0</td>\n",
       "      <td>0.017923</td>\n",
       "    </tr>\n",
       "    <tr>\n",
       "      <th>1</th>\n",
       "      <td>1</td>\n",
       "      <td>1</td>\n",
       "      <td>NaN</td>\n",
       "      <td>3.0</td>\n",
       "      <td>B</td>\n",
       "      <td>Arson</td>\n",
       "      <td>35.038330</td>\n",
       "      <td>-87.610000</td>\n",
       "      <td>TN</td>\n",
       "      <td>12/11/2006</td>\n",
       "      <td>NaN</td>\n",
       "      <td>Dec</td>\n",
       "      <td>NaN</td>\n",
       "      <td>NaN</td>\n",
       "      <td>NaN</td>\n",
       "      <td>11/11/2006</td>\n",
       "      <td>2006</td>\n",
       "      <td>Nov</td>\n",
       "      <td>723235</td>\n",
       "      <td>32665.34327</td>\n",
       "      <td>13896</td>\n",
       "      <td>1978</td>\n",
       "      <td>2020</td>\n",
       "      <td>15</td>\n",
       "      <td>0.1</td>\n",
       "      <td>723235-13896-2006.gz</td>\n",
       "      <td>7.553433</td>\n",
       "      <td>7.010000</td>\n",
       "      <td>0.343529</td>\n",
       "      <td>10.448298</td>\n",
       "      <td>2.709764</td>\n",
       "      <td>2.881707</td>\n",
       "      <td>1.976471</td>\n",
       "      <td>2.122320</td>\n",
       "      <td>70.84000</td>\n",
       "      <td>65.858911</td>\n",
       "      <td>55.505882</td>\n",
       "      <td>81.682678</td>\n",
       "      <td>59.8</td>\n",
       "      <td>8.4</td>\n",
       "      <td>0.0</td>\n",
       "      <td>86.8</td>\n",
       "      <td>0.184355</td>\n",
       "    </tr>\n",
       "  </tbody>\n",
       "</table>\n",
       "</div>"
      ],
      "text/plain": [
       "   Unnamed: 0.1  Unnamed: 0 fire_name  fire_size fire_size_class  \\\n",
       "0             0           0       NaN       10.0               C   \n",
       "1             1           1       NaN        3.0               B   \n",
       "\n",
       "    stat_cause_descr   latitude  longitude state disc_clean_date  \\\n",
       "0  Missing/Undefined  18.105072 -66.753044    PR       2/11/2007   \n",
       "1              Arson  35.038330 -87.610000    TN      12/11/2006   \n",
       "\n",
       "  cont_clean_date discovery_month disc_date_final cont_date_final putout_time  \\\n",
       "0             NaN             Feb             NaN             NaN         NaN   \n",
       "1             NaN             Dec             NaN             NaN         NaN   \n",
       "\n",
       "  disc_date_pre  disc_pre_year disc_pre_month wstation_usaf   dstation_m  \\\n",
       "0     1/12/2007           2007            Jan        785140  58917.69716   \n",
       "1    11/11/2006           2006            Nov        723235  32665.34327   \n",
       "\n",
       "   wstation_wban  wstation_byear  wstation_eyear  Vegetation  fire_mag  \\\n",
       "0          11603            1945            2018          12       1.0   \n",
       "1          13896            1978            2020          15       0.1   \n",
       "\n",
       "           weather_file  Temp_pre_30  Temp_pre_15  Temp_pre_7  Temp_cont  \\\n",
       "0  785140-11603-2007.gz    24.480974    24.716923   24.902597  24.527961   \n",
       "1  723235-13896-2006.gz     7.553433     7.010000    0.343529  10.448298   \n",
       "\n",
       "   Wind_pre_30  Wind_pre_15  Wind_pre_7  Wind_cont  Hum_pre_30  Hum_pre_15  \\\n",
       "0     4.341807     3.492857    3.262092   3.250413    78.21659   76.793750   \n",
       "1     2.709764     2.881707    1.976471   2.122320    70.84000   65.858911   \n",
       "\n",
       "   Hum_pre_7   Hum_cont  Prec_pre_30  Prec_pre_15  Prec_pre_7  Prec_cont  \\\n",
       "0  76.381579  78.724370          0.0          0.0         0.0        0.0   \n",
       "1  55.505882  81.682678         59.8          8.4         0.0       86.8   \n",
       "\n",
       "   remoteness  \n",
       "0    0.017923  \n",
       "1    0.184355  "
      ]
     },
     "execution_count": 70,
     "metadata": {},
     "output_type": "execute_result"
    }
   ],
   "source": [
    "df = pd.read_csv('wildfires.csv')\n",
    "df.head(2)"
   ]
  },
  {
   "cell_type": "code",
   "execution_count": 71,
   "metadata": {},
   "outputs": [],
   "source": [
    "#drop first two index columns\n",
    "df = df.iloc[:, 2:]"
   ]
  },
  {
   "cell_type": "code",
   "execution_count": 72,
   "metadata": {},
   "outputs": [
    {
     "data": {
      "text/plain": [
       "fire_name           29454\n",
       "fire_size               0\n",
       "fire_size_class         0\n",
       "stat_cause_descr        0\n",
       "latitude                0\n",
       "longitude               0\n",
       "state                   0\n",
       "disc_clean_date         0\n",
       "cont_clean_date     27890\n",
       "discovery_month         0\n",
       "disc_date_final     26659\n",
       "cont_date_final     29735\n",
       "putout_time         27890\n",
       "disc_date_pre           0\n",
       "disc_pre_year           0\n",
       "disc_pre_month          0\n",
       "wstation_usaf           0\n",
       "dstation_m              0\n",
       "wstation_wban           0\n",
       "wstation_byear          0\n",
       "wstation_eyear          0\n",
       "Vegetation              0\n",
       "fire_mag                0\n",
       "weather_file            0\n",
       "Temp_pre_30             0\n",
       "Temp_pre_15             0\n",
       "Temp_pre_7              0\n",
       "Temp_cont               0\n",
       "Wind_pre_30             0\n",
       "Wind_pre_15             0\n",
       "Wind_pre_7              0\n",
       "Wind_cont               0\n",
       "Hum_pre_30              0\n",
       "Hum_pre_15              0\n",
       "Hum_pre_7               0\n",
       "Hum_cont                0\n",
       "Prec_pre_30             0\n",
       "Prec_pre_15             0\n",
       "Prec_pre_7              0\n",
       "Prec_cont               0\n",
       "remoteness              0\n",
       "dtype: int64"
      ]
     },
     "execution_count": 72,
     "metadata": {},
     "output_type": "execute_result"
    }
   ],
   "source": [
    "#check for nulls\n",
    "df.isna().sum()"
   ]
  },
  {
   "cell_type": "code",
   "execution_count": 73,
   "metadata": {},
   "outputs": [],
   "source": [
    "#just rearranging columns so fire-size is first (y)\n",
    "cols = list(df.columns)\n",
    "cols = [cols[1]] + cols[0:1] + cols[2:]\n",
    "df = df[cols]"
   ]
  },
  {
   "cell_type": "code",
   "execution_count": 74,
   "metadata": {},
   "outputs": [
    {
     "data": {
      "text/plain": [
       "Index(['fire_size', 'fire_name', 'fire_size_class', 'stat_cause_descr',\n",
       "       'latitude', 'longitude', 'state', 'disc_clean_date', 'cont_clean_date',\n",
       "       'discovery_month', 'disc_date_final', 'cont_date_final', 'putout_time',\n",
       "       'disc_date_pre', 'disc_pre_year', 'disc_pre_month', 'wstation_usaf',\n",
       "       'dstation_m', 'wstation_wban', 'wstation_byear', 'wstation_eyear',\n",
       "       'Vegetation', 'fire_mag', 'weather_file', 'Temp_pre_30', 'Temp_pre_15',\n",
       "       'Temp_pre_7', 'Temp_cont', 'Wind_pre_30', 'Wind_pre_15', 'Wind_pre_7',\n",
       "       'Wind_cont', 'Hum_pre_30', 'Hum_pre_15', 'Hum_pre_7', 'Hum_cont',\n",
       "       'Prec_pre_30', 'Prec_pre_15', 'Prec_pre_7', 'Prec_cont', 'remoteness'],\n",
       "      dtype='object')"
      ]
     },
     "execution_count": 74,
     "metadata": {},
     "output_type": "execute_result"
    }
   ],
   "source": [
    "df.columns"
   ]
  },
  {
   "cell_type": "code",
   "execution_count": 75,
   "metadata": {},
   "outputs": [
    {
     "data": {
      "text/plain": [
       "(55367, 41)"
      ]
     },
     "execution_count": 75,
     "metadata": {},
     "output_type": "execute_result"
    }
   ],
   "source": [
    "df.shape"
   ]
  },
  {
   "cell_type": "code",
   "execution_count": 76,
   "metadata": {},
   "outputs": [
    {
     "name": "stdout",
     "output_type": "stream",
     "text": [
      "{0: 'Arson', 1: 'Campfire', 2: 'Children', 3: 'Debris Burning', 4: 'Equipment Use', 5: 'Fireworks', 6: 'Lightning', 7: 'Miscellaneous', 8: 'Missing/Undefined', 9: 'Powerline', 10: 'Railroad', 11: 'Smoking', 12: 'Structure'}\n"
     ]
    }
   ],
   "source": [
    "#encode stat_cause_descr\n",
    "df[\"cause_code\"] = df[\"stat_cause_descr\"].astype('category').cat.codes\n",
    "\n",
    "c = df[\"stat_cause_descr\"].astype('category')\n",
    "cause_dict = dict(enumerate(c.cat.categories))\n",
    "print(cause_dict)"
   ]
  },
  {
   "cell_type": "code",
   "execution_count": 77,
   "metadata": {},
   "outputs": [
    {
     "name": "stdout",
     "output_type": "stream",
     "text": [
      "{0: 'AK', 1: 'AL', 2: 'AR', 3: 'AZ', 4: 'CA', 5: 'CO', 6: 'CT', 7: 'DE', 8: 'FL', 9: 'GA', 10: 'HI', 11: 'IA', 12: 'ID', 13: 'IL', 14: 'IN', 15: 'KS', 16: 'KY', 17: 'LA', 18: 'MA', 19: 'MD', 20: 'ME', 21: 'MI', 22: 'MN', 23: 'MO', 24: 'MS', 25: 'MT', 26: 'NC', 27: 'ND', 28: 'NE', 29: 'NH', 30: 'NJ', 31: 'NM', 32: 'NV', 33: 'NY', 34: 'OH', 35: 'OK', 36: 'OR', 37: 'PA', 38: 'PR', 39: 'RI', 40: 'SC', 41: 'SD', 42: 'TN', 43: 'TX', 44: 'UT', 45: 'VA', 46: 'VT', 47: 'WA', 48: 'WI', 49: 'WV', 50: 'WY'}\n"
     ]
    }
   ],
   "source": [
    "#encode state\n",
    "df[\"state_code\"] = df[\"state\"].astype('category').cat.codes\n",
    "\n",
    "s = df[\"state\"].astype('category')\n",
    "state_dict = dict(enumerate(s.cat.categories))\n",
    "print(state_dict)\n"
   ]
  },
  {
   "cell_type": "code",
   "execution_count": 78,
   "metadata": {},
   "outputs": [
    {
     "name": "stdout",
     "output_type": "stream",
     "text": [
      "{0: 'B', 1: 'C', 2: 'D', 3: 'E', 4: 'F', 5: 'G'}\n"
     ]
    }
   ],
   "source": [
    "#encode fire size class\n",
    "df[\"fire_size_class_code\"] = df[\"fire_size_class\"].astype('category').cat.codes\n",
    "\n",
    "s = df[\"fire_size_class\"].astype('category')\n",
    "fire_size_class_dict = dict(enumerate(s.cat.categories))\n",
    "\n",
    "print(fire_size_class_dict)"
   ]
  },
  {
   "cell_type": "code",
   "execution_count": 79,
   "metadata": {},
   "outputs": [],
   "source": [
    "#encode discovery month\n",
    "month_dict = {'Jan':1, 'Feb':2, 'Mar':3, 'Apr':4, 'May':5, 'Jun':6, 'Jul':7, 'Aug':8, 'Sep':9, 'Oct':10, 'Nov':11, 'Dec':12}\n",
    "\n",
    "df.discovery_month = df.discovery_month.map(month_dict)"
   ]
  },
  {
   "cell_type": "code",
   "execution_count": 80,
   "metadata": {},
   "outputs": [
    {
     "data": {
      "text/html": [
       "<div>\n",
       "<style scoped>\n",
       "    .dataframe tbody tr th:only-of-type {\n",
       "        vertical-align: middle;\n",
       "    }\n",
       "\n",
       "    .dataframe tbody tr th {\n",
       "        vertical-align: top;\n",
       "    }\n",
       "\n",
       "    .dataframe thead th {\n",
       "        text-align: right;\n",
       "    }\n",
       "</style>\n",
       "<table border=\"1\" class=\"dataframe\">\n",
       "  <thead>\n",
       "    <tr style=\"text-align: right;\">\n",
       "      <th></th>\n",
       "      <th>fire_size</th>\n",
       "      <th>fire_name</th>\n",
       "      <th>fire_size_class</th>\n",
       "      <th>stat_cause_descr</th>\n",
       "      <th>latitude</th>\n",
       "      <th>longitude</th>\n",
       "      <th>state</th>\n",
       "      <th>disc_clean_date</th>\n",
       "      <th>cont_clean_date</th>\n",
       "      <th>discovery_month</th>\n",
       "      <th>disc_date_final</th>\n",
       "      <th>cont_date_final</th>\n",
       "      <th>putout_time</th>\n",
       "      <th>disc_date_pre</th>\n",
       "      <th>disc_pre_year</th>\n",
       "      <th>disc_pre_month</th>\n",
       "      <th>wstation_usaf</th>\n",
       "      <th>dstation_m</th>\n",
       "      <th>wstation_wban</th>\n",
       "      <th>wstation_byear</th>\n",
       "      <th>wstation_eyear</th>\n",
       "      <th>Vegetation</th>\n",
       "      <th>fire_mag</th>\n",
       "      <th>weather_file</th>\n",
       "      <th>Temp_pre_30</th>\n",
       "      <th>Temp_pre_15</th>\n",
       "      <th>Temp_pre_7</th>\n",
       "      <th>Temp_cont</th>\n",
       "      <th>Wind_pre_30</th>\n",
       "      <th>Wind_pre_15</th>\n",
       "      <th>Wind_pre_7</th>\n",
       "      <th>Wind_cont</th>\n",
       "      <th>Hum_pre_30</th>\n",
       "      <th>Hum_pre_15</th>\n",
       "      <th>Hum_pre_7</th>\n",
       "      <th>Hum_cont</th>\n",
       "      <th>Prec_pre_30</th>\n",
       "      <th>Prec_pre_15</th>\n",
       "      <th>Prec_pre_7</th>\n",
       "      <th>Prec_cont</th>\n",
       "      <th>remoteness</th>\n",
       "      <th>cause_code</th>\n",
       "      <th>state_code</th>\n",
       "      <th>fire_size_class_code</th>\n",
       "    </tr>\n",
       "  </thead>\n",
       "  <tbody>\n",
       "    <tr>\n",
       "      <th>0</th>\n",
       "      <td>10.0</td>\n",
       "      <td>NaN</td>\n",
       "      <td>C</td>\n",
       "      <td>Missing/Undefined</td>\n",
       "      <td>18.105072</td>\n",
       "      <td>-66.753044</td>\n",
       "      <td>PR</td>\n",
       "      <td>2/11/2007</td>\n",
       "      <td>NaN</td>\n",
       "      <td>2</td>\n",
       "      <td>NaN</td>\n",
       "      <td>NaN</td>\n",
       "      <td>NaN</td>\n",
       "      <td>1/12/2007</td>\n",
       "      <td>2007</td>\n",
       "      <td>Jan</td>\n",
       "      <td>785140</td>\n",
       "      <td>58917.69716</td>\n",
       "      <td>11603</td>\n",
       "      <td>1945</td>\n",
       "      <td>2018</td>\n",
       "      <td>12</td>\n",
       "      <td>1.0</td>\n",
       "      <td>785140-11603-2007.gz</td>\n",
       "      <td>24.480974</td>\n",
       "      <td>24.716923</td>\n",
       "      <td>24.902597</td>\n",
       "      <td>24.527961</td>\n",
       "      <td>4.341807</td>\n",
       "      <td>3.492857</td>\n",
       "      <td>3.262092</td>\n",
       "      <td>3.250413</td>\n",
       "      <td>78.21659</td>\n",
       "      <td>76.793750</td>\n",
       "      <td>76.381579</td>\n",
       "      <td>78.724370</td>\n",
       "      <td>0.0</td>\n",
       "      <td>0.0</td>\n",
       "      <td>0.0</td>\n",
       "      <td>0.0</td>\n",
       "      <td>0.017923</td>\n",
       "      <td>8</td>\n",
       "      <td>38</td>\n",
       "      <td>1</td>\n",
       "    </tr>\n",
       "    <tr>\n",
       "      <th>1</th>\n",
       "      <td>3.0</td>\n",
       "      <td>NaN</td>\n",
       "      <td>B</td>\n",
       "      <td>Arson</td>\n",
       "      <td>35.038330</td>\n",
       "      <td>-87.610000</td>\n",
       "      <td>TN</td>\n",
       "      <td>12/11/2006</td>\n",
       "      <td>NaN</td>\n",
       "      <td>12</td>\n",
       "      <td>NaN</td>\n",
       "      <td>NaN</td>\n",
       "      <td>NaN</td>\n",
       "      <td>11/11/2006</td>\n",
       "      <td>2006</td>\n",
       "      <td>Nov</td>\n",
       "      <td>723235</td>\n",
       "      <td>32665.34327</td>\n",
       "      <td>13896</td>\n",
       "      <td>1978</td>\n",
       "      <td>2020</td>\n",
       "      <td>15</td>\n",
       "      <td>0.1</td>\n",
       "      <td>723235-13896-2006.gz</td>\n",
       "      <td>7.553433</td>\n",
       "      <td>7.010000</td>\n",
       "      <td>0.343529</td>\n",
       "      <td>10.448298</td>\n",
       "      <td>2.709764</td>\n",
       "      <td>2.881707</td>\n",
       "      <td>1.976471</td>\n",
       "      <td>2.122320</td>\n",
       "      <td>70.84000</td>\n",
       "      <td>65.858911</td>\n",
       "      <td>55.505882</td>\n",
       "      <td>81.682678</td>\n",
       "      <td>59.8</td>\n",
       "      <td>8.4</td>\n",
       "      <td>0.0</td>\n",
       "      <td>86.8</td>\n",
       "      <td>0.184355</td>\n",
       "      <td>0</td>\n",
       "      <td>42</td>\n",
       "      <td>0</td>\n",
       "    </tr>\n",
       "  </tbody>\n",
       "</table>\n",
       "</div>"
      ],
      "text/plain": [
       "   fire_size fire_name fire_size_class   stat_cause_descr   latitude  \\\n",
       "0       10.0       NaN               C  Missing/Undefined  18.105072   \n",
       "1        3.0       NaN               B              Arson  35.038330   \n",
       "\n",
       "   longitude state disc_clean_date cont_clean_date  discovery_month  \\\n",
       "0 -66.753044    PR       2/11/2007             NaN                2   \n",
       "1 -87.610000    TN      12/11/2006             NaN               12   \n",
       "\n",
       "  disc_date_final cont_date_final putout_time disc_date_pre  disc_pre_year  \\\n",
       "0             NaN             NaN         NaN     1/12/2007           2007   \n",
       "1             NaN             NaN         NaN    11/11/2006           2006   \n",
       "\n",
       "  disc_pre_month wstation_usaf   dstation_m  wstation_wban  wstation_byear  \\\n",
       "0            Jan        785140  58917.69716          11603            1945   \n",
       "1            Nov        723235  32665.34327          13896            1978   \n",
       "\n",
       "   wstation_eyear  Vegetation  fire_mag          weather_file  Temp_pre_30  \\\n",
       "0            2018          12       1.0  785140-11603-2007.gz    24.480974   \n",
       "1            2020          15       0.1  723235-13896-2006.gz     7.553433   \n",
       "\n",
       "   Temp_pre_15  Temp_pre_7  Temp_cont  Wind_pre_30  Wind_pre_15  Wind_pre_7  \\\n",
       "0    24.716923   24.902597  24.527961     4.341807     3.492857    3.262092   \n",
       "1     7.010000    0.343529  10.448298     2.709764     2.881707    1.976471   \n",
       "\n",
       "   Wind_cont  Hum_pre_30  Hum_pre_15  Hum_pre_7   Hum_cont  Prec_pre_30  \\\n",
       "0   3.250413    78.21659   76.793750  76.381579  78.724370          0.0   \n",
       "1   2.122320    70.84000   65.858911  55.505882  81.682678         59.8   \n",
       "\n",
       "   Prec_pre_15  Prec_pre_7  Prec_cont  remoteness  cause_code  state_code  \\\n",
       "0          0.0         0.0        0.0    0.017923           8          38   \n",
       "1          8.4         0.0       86.8    0.184355           0          42   \n",
       "\n",
       "   fire_size_class_code  \n",
       "0                     1  \n",
       "1                     0  "
      ]
     },
     "execution_count": 80,
     "metadata": {},
     "output_type": "execute_result"
    }
   ],
   "source": [
    "df.head(2)"
   ]
  },
  {
   "cell_type": "code",
   "execution_count": 81,
   "metadata": {},
   "outputs": [],
   "source": [
    "#export clean df\n",
    "df.to_csv('wildfires_clean.csv', index=False)"
   ]
  },
  {
   "cell_type": "code",
   "execution_count": 82,
   "metadata": {},
   "outputs": [
    {
     "name": "stdout",
     "output_type": "stream",
     "text": [
      "<class 'pandas.core.frame.DataFrame'>\n",
      "RangeIndex: 55367 entries, 0 to 55366\n",
      "Data columns (total 44 columns):\n",
      " #   Column                Non-Null Count  Dtype  \n",
      "---  ------                --------------  -----  \n",
      " 0   fire_size             55367 non-null  float64\n",
      " 1   fire_name             25913 non-null  object \n",
      " 2   fire_size_class       55367 non-null  object \n",
      " 3   stat_cause_descr      55367 non-null  object \n",
      " 4   latitude              55367 non-null  float64\n",
      " 5   longitude             55367 non-null  float64\n",
      " 6   state                 55367 non-null  object \n",
      " 7   disc_clean_date       55367 non-null  object \n",
      " 8   cont_clean_date       27477 non-null  object \n",
      " 9   discovery_month       55367 non-null  int64  \n",
      " 10  disc_date_final       28708 non-null  object \n",
      " 11  cont_date_final       25632 non-null  object \n",
      " 12  putout_time           27477 non-null  object \n",
      " 13  disc_date_pre         55367 non-null  object \n",
      " 14  disc_pre_year         55367 non-null  int64  \n",
      " 15  disc_pre_month        55367 non-null  object \n",
      " 16  wstation_usaf         55367 non-null  object \n",
      " 17  dstation_m            55367 non-null  float64\n",
      " 18  wstation_wban         55367 non-null  int64  \n",
      " 19  wstation_byear        55367 non-null  int64  \n",
      " 20  wstation_eyear        55367 non-null  int64  \n",
      " 21  Vegetation            55367 non-null  int64  \n",
      " 22  fire_mag              55367 non-null  float64\n",
      " 23  weather_file          55367 non-null  object \n",
      " 24  Temp_pre_30           55367 non-null  float64\n",
      " 25  Temp_pre_15           55367 non-null  float64\n",
      " 26  Temp_pre_7            55367 non-null  float64\n",
      " 27  Temp_cont             55367 non-null  float64\n",
      " 28  Wind_pre_30           55367 non-null  float64\n",
      " 29  Wind_pre_15           55367 non-null  float64\n",
      " 30  Wind_pre_7            55367 non-null  float64\n",
      " 31  Wind_cont             55367 non-null  float64\n",
      " 32  Hum_pre_30            55367 non-null  float64\n",
      " 33  Hum_pre_15            55367 non-null  float64\n",
      " 34  Hum_pre_7             55367 non-null  float64\n",
      " 35  Hum_cont              55367 non-null  float64\n",
      " 36  Prec_pre_30           55367 non-null  float64\n",
      " 37  Prec_pre_15           55367 non-null  float64\n",
      " 38  Prec_pre_7            55367 non-null  float64\n",
      " 39  Prec_cont             55367 non-null  float64\n",
      " 40  remoteness            55367 non-null  float64\n",
      " 41  cause_code            55367 non-null  int8   \n",
      " 42  state_code            55367 non-null  int8   \n",
      " 43  fire_size_class_code  55367 non-null  int8   \n",
      "dtypes: float64(22), int64(6), int8(3), object(13)\n",
      "memory usage: 17.5+ MB\n",
      "None\n"
     ]
    }
   ],
   "source": [
    "pd.set_option('display.max_columns', df.shape[1])\n",
    "print(df.info())"
   ]
  },
  {
   "attachments": {},
   "cell_type": "markdown",
   "metadata": {},
   "source": [
    "Index(['fire_size', 'fire_name', 'fire_size_class', 'stat_cause_descr',\n",
    "       'latitude', 'longitude', 'state', 'disc_clean_date', 'cont_clean_date',\n",
    "       'discovery_month', 'disc_date_final', 'cont_date_final', 'putout_time',\n",
    "       'disc_date_pre', 'disc_pre_year', 'disc_pre_month', 'wstation_usaf',\n",
    "       'dstation_m', 'wstation_wban', 'wstation_byear', 'wstation_eyear',\n",
    "       'Vegetation', 'fire_mag', 'weather_file', 'Temp_pre_30', 'Temp_pre_15',\n",
    "       'Temp_pre_7', 'Temp_cont', 'Wind_pre_30', 'Wind_pre_15', 'Wind_pre_7',\n",
    "       'Wind_cont', 'Hum_pre_30', 'Hum_pre_15', 'Hum_pre_7', 'Hum_cont',\n",
    "       'Prec_pre_30', 'Prec_pre_15', 'Prec_pre_7', 'Prec_cont', 'remoteness'],\n",
    "      dtype='object')"
   ]
  },
  {
   "cell_type": "code",
   "execution_count": 83,
   "metadata": {},
   "outputs": [
    {
     "name": "stdout",
     "output_type": "stream",
     "text": [
      "(55367, 23)\n",
      "(55367, 1)\n"
     ]
    }
   ],
   "source": [
    "X = df[['cause_code', 'state_code', 'fire_size_class_code', 'discovery_month','Vegetation',\n",
    "       'fire_mag', 'Temp_pre_30', 'Temp_pre_15', 'Temp_pre_7',\n",
    "       'Temp_cont', 'Wind_pre_30', 'Wind_pre_15', 'Wind_pre_7', 'Wind_cont',\n",
    "       'Hum_pre_30', 'Hum_pre_15', 'Hum_pre_7', 'Hum_cont', 'Prec_pre_30',\n",
    "       'Prec_pre_15', 'Prec_pre_7', 'Prec_cont', 'remoteness']]\n",
    "\n",
    "y = df[['fire_size']]\n",
    "\n",
    "\n",
    "print(X.shape)\n",
    "print(y.shape)"
   ]
  },
  {
   "cell_type": "markdown",
   "metadata": {
    "id": "j6Ecd4aJAiFU"
   },
   "source": [
    "### Correct workflow avoiding data leakage"
   ]
  },
  {
   "cell_type": "code",
   "execution_count": 84,
   "metadata": {},
   "outputs": [
    {
     "name": "stdout",
     "output_type": "stream",
     "text": [
      "<class 'pandas.core.frame.DataFrame'>\n",
      "RangeIndex: 55367 entries, 0 to 55366\n",
      "Data columns (total 23 columns):\n",
      " #   Column                Non-Null Count  Dtype  \n",
      "---  ------                --------------  -----  \n",
      " 0   cause_code            55367 non-null  int8   \n",
      " 1   state_code            55367 non-null  int8   \n",
      " 2   fire_size_class_code  55367 non-null  int8   \n",
      " 3   discovery_month       55367 non-null  int64  \n",
      " 4   Vegetation            55367 non-null  int64  \n",
      " 5   fire_mag              55367 non-null  float64\n",
      " 6   Temp_pre_30           55367 non-null  float64\n",
      " 7   Temp_pre_15           55367 non-null  float64\n",
      " 8   Temp_pre_7            55367 non-null  float64\n",
      " 9   Temp_cont             55367 non-null  float64\n",
      " 10  Wind_pre_30           55367 non-null  float64\n",
      " 11  Wind_pre_15           55367 non-null  float64\n",
      " 12  Wind_pre_7            55367 non-null  float64\n",
      " 13  Wind_cont             55367 non-null  float64\n",
      " 14  Hum_pre_30            55367 non-null  float64\n",
      " 15  Hum_pre_15            55367 non-null  float64\n",
      " 16  Hum_pre_7             55367 non-null  float64\n",
      " 17  Hum_cont              55367 non-null  float64\n",
      " 18  Prec_pre_30           55367 non-null  float64\n",
      " 19  Prec_pre_15           55367 non-null  float64\n",
      " 20  Prec_pre_7            55367 non-null  float64\n",
      " 21  Prec_cont             55367 non-null  float64\n",
      " 22  remoteness            55367 non-null  float64\n",
      "dtypes: float64(18), int64(2), int8(3)\n",
      "memory usage: 8.6 MB\n"
     ]
    }
   ],
   "source": [
    "X.info()"
   ]
  },
  {
   "cell_type": "code",
   "execution_count": 85,
   "metadata": {},
   "outputs": [
    {
     "name": "stdout",
     "output_type": "stream",
     "text": [
      "<class 'pandas.core.frame.DataFrame'>\n",
      "RangeIndex: 55367 entries, 0 to 55366\n",
      "Data columns (total 1 columns):\n",
      " #   Column     Non-Null Count  Dtype  \n",
      "---  ------     --------------  -----  \n",
      " 0   fire_size  55367 non-null  float64\n",
      "dtypes: float64(1)\n",
      "memory usage: 432.7 KB\n"
     ]
    }
   ],
   "source": [
    "y.info()"
   ]
  },
  {
   "cell_type": "code",
   "execution_count": 86,
   "metadata": {
    "colab": {
     "base_uri": "https://localhost:8080/"
    },
    "executionInfo": {
     "elapsed": 141,
     "status": "ok",
     "timestamp": 1650492343047,
     "user": {
      "displayName": "Raja Sooriamurthi",
      "userId": "11358474519609094405"
     },
     "user_tz": 240
    },
    "id": "28zgIaPkAiFU",
    "outputId": "c8501634-503a-4d0d-dd09-113531e74c30"
   },
   "outputs": [
    {
     "name": "stdout",
     "output_type": "stream",
     "text": [
      "Train R-squared:  0.22271571945437274\n",
      "Train MSE: 157582076.12\n",
      "Testing R-squared:  0.21225088211596466\n",
      "Test MSE: 208885962.91\n"
     ]
    }
   ],
   "source": [
    "# split first\n",
    "X_train, X_test, y_train, y_test = train_test_split(X, y, test_size=0.25, random_state=1)\n",
    "\n",
    "scaler = MinMaxScaler()\n",
    "scaler.fit(X_train)\n",
    "X_train = scaler.transform(X_train)\n",
    "\n",
    "# scale the test dataset\n",
    "X_test = scaler.transform(X_test)\n",
    "model1 = LinearRegression()\n",
    "\n",
    "model1.fit(X_train, y_train)\n",
    "\n",
    "yhat = model1.predict(X_test)\n",
    "\n",
    "print(\"Train R-squared: \", model1.score(X_train,y_train))\n",
    "print('Train MSE: %.2f'% mean_squared_error(y_train, model1.predict(X_train)))\n",
    "print(\"Testing R-squared: \", model1.score(X_test,y_test))\n",
    "print('Test MSE: %.2f'% mean_squared_error(y_test, model1.predict(X_test)))"
   ]
  },
  {
   "cell_type": "markdown",
   "metadata": {
    "id": "0Lmoy9pMAiFX"
   },
   "source": [
    "### Use a Pipeline to avoid data leakage during k-fold CV"
   ]
  },
  {
   "cell_type": "code",
   "execution_count": 87,
   "metadata": {
    "id": "ocQy_lUBAiFY",
    "outputId": "3ef61072-29c7-47ce-fe66-7bcc098c5935"
   },
   "outputs": [
    {
     "name": "stdout",
     "output_type": "stream",
     "text": [
      "Accuracy: 0.102 (0.002)\n"
     ]
    }
   ],
   "source": [
    "from sklearn.pipeline import Pipeline\n",
    "\n",
    "X, y = make_classification(n_samples=55367, n_features=21, \n",
    "                           n_informative=15, n_redundant=5, \n",
    "                           random_state=7)\n",
    "\n",
    "pipe = Pipeline(steps = \n",
    "                [('scaler', MinMaxScaler()),\n",
    "                 ('model', LinearRegression())])\n",
    "\n",
    "cv = RepeatedStratifiedKFold(n_splits=10, n_repeats=3, random_state=1)\n",
    "\n",
    "scores = cross_val_score(pipe, X, y, scoring='neg_mean_squared_error', cv=cv, n_jobs=-1)\n",
    "\n",
    "print('Accuracy: %.3f (%.3f)' % (-scores.mean(), scores.std()))"
   ]
  },
  {
   "cell_type": "code",
   "execution_count": null,
   "metadata": {
    "id": "VCVlqbQUAiFY"
   },
   "outputs": [],
   "source": []
  }
 ],
 "metadata": {
  "colab": {
   "name": "01-Avoiding-Data-Leakage.ipynb",
   "provenance": []
  },
  "kernelspec": {
   "display_name": "Python 3 (ipykernel)",
   "language": "python",
   "name": "python3"
  },
  "language_info": {
   "codemirror_mode": {
    "name": "ipython",
    "version": 3
   },
   "file_extension": ".py",
   "mimetype": "text/x-python",
   "name": "python",
   "nbconvert_exporter": "python",
   "pygments_lexer": "ipython3",
   "version": "3.9.13"
  }
 },
 "nbformat": 4,
 "nbformat_minor": 1
}
