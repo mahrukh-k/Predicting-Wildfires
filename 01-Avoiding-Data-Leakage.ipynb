{
 "cells": [
  {
   "cell_type": "markdown",
   "metadata": {
    "id": "7fHmHRZTAiFF"
   },
   "source": [
    "# Data Leakage and its Avoidance\n",
    "\n",
    "If our workflow is:\n",
    "1. Prepare the data set (eliminate redundancy, impute, scale, ...)\n",
    "2. Split the data set\n",
    "3. Evaluate the model\n",
    "then information from the test set contaminates the preparation and fitting of the training data\n",
    "\n",
    "To avoid this the workflow should be:\n",
    "1. Split the data set\n",
    "2. **Prepare using the training data set**\n",
    "3. **Apply the same preparation to the Training and Test data sets**\n",
    "4. Evaluate the model\n"
   ]
  },
  {
   "cell_type": "code",
   "execution_count": 3,
   "metadata": {
    "executionInfo": {
     "elapsed": 1341,
     "status": "ok",
     "timestamp": 1650492333215,
     "user": {
      "displayName": "Raja Sooriamurthi",
      "userId": "11358474519609094405"
     },
     "user_tz": 240
    },
    "id": "jztJWEUcAiFK"
   },
   "outputs": [],
   "source": [
    "from sklearn.datasets import make_classification\n",
    "from sklearn.model_selection import train_test_split\n",
    "from sklearn.preprocessing import MinMaxScaler\n",
    "\n",
    "from sklearn.metrics import mean_squared_error\n",
    "from sklearn.linear_model import LinearRegression\n",
    "from sklearn.preprocessing import PolynomialFeatures\n",
    "from sklearn.linear_model import Ridge, RidgeCV, Lasso, LassoCV\n",
    "from sklearn.feature_selection import SequentialFeatureSelector\n",
    "\n",
    "from sklearn.linear_model import LogisticRegression\n",
    "from sklearn.model_selection import cross_val_score\n",
    "from sklearn.model_selection import RepeatedStratifiedKFold\n",
    "from sklearn.metrics import accuracy_score\n",
    "import pandas as pd"
   ]
  },
  {
   "cell_type": "code",
   "execution_count": 4,
   "metadata": {},
   "outputs": [
    {
     "data": {
      "text/html": [
       "<div>\n",
       "<style scoped>\n",
       "    .dataframe tbody tr th:only-of-type {\n",
       "        vertical-align: middle;\n",
       "    }\n",
       "\n",
       "    .dataframe tbody tr th {\n",
       "        vertical-align: top;\n",
       "    }\n",
       "\n",
       "    .dataframe thead th {\n",
       "        text-align: right;\n",
       "    }\n",
       "</style>\n",
       "<table border=\"1\" class=\"dataframe\">\n",
       "  <thead>\n",
       "    <tr style=\"text-align: right;\">\n",
       "      <th></th>\n",
       "      <th>Unnamed: 0.1</th>\n",
       "      <th>Unnamed: 0</th>\n",
       "      <th>fire_name</th>\n",
       "      <th>fire_size</th>\n",
       "      <th>fire_size_class</th>\n",
       "      <th>stat_cause_descr</th>\n",
       "      <th>latitude</th>\n",
       "      <th>longitude</th>\n",
       "      <th>state</th>\n",
       "      <th>disc_clean_date</th>\n",
       "      <th>...</th>\n",
       "      <th>Wind_cont</th>\n",
       "      <th>Hum_pre_30</th>\n",
       "      <th>Hum_pre_15</th>\n",
       "      <th>Hum_pre_7</th>\n",
       "      <th>Hum_cont</th>\n",
       "      <th>Prec_pre_30</th>\n",
       "      <th>Prec_pre_15</th>\n",
       "      <th>Prec_pre_7</th>\n",
       "      <th>Prec_cont</th>\n",
       "      <th>remoteness</th>\n",
       "    </tr>\n",
       "  </thead>\n",
       "  <tbody>\n",
       "    <tr>\n",
       "      <th>0</th>\n",
       "      <td>0</td>\n",
       "      <td>0</td>\n",
       "      <td>NaN</td>\n",
       "      <td>10.0</td>\n",
       "      <td>C</td>\n",
       "      <td>Missing/Undefined</td>\n",
       "      <td>18.105072</td>\n",
       "      <td>-66.753044</td>\n",
       "      <td>PR</td>\n",
       "      <td>2/11/2007</td>\n",
       "      <td>...</td>\n",
       "      <td>3.250413</td>\n",
       "      <td>78.21659</td>\n",
       "      <td>76.793750</td>\n",
       "      <td>76.381579</td>\n",
       "      <td>78.724370</td>\n",
       "      <td>0.0</td>\n",
       "      <td>0.0</td>\n",
       "      <td>0.0</td>\n",
       "      <td>0.0</td>\n",
       "      <td>0.017923</td>\n",
       "    </tr>\n",
       "    <tr>\n",
       "      <th>1</th>\n",
       "      <td>1</td>\n",
       "      <td>1</td>\n",
       "      <td>NaN</td>\n",
       "      <td>3.0</td>\n",
       "      <td>B</td>\n",
       "      <td>Arson</td>\n",
       "      <td>35.038330</td>\n",
       "      <td>-87.610000</td>\n",
       "      <td>TN</td>\n",
       "      <td>12/11/2006</td>\n",
       "      <td>...</td>\n",
       "      <td>2.122320</td>\n",
       "      <td>70.84000</td>\n",
       "      <td>65.858911</td>\n",
       "      <td>55.505882</td>\n",
       "      <td>81.682678</td>\n",
       "      <td>59.8</td>\n",
       "      <td>8.4</td>\n",
       "      <td>0.0</td>\n",
       "      <td>86.8</td>\n",
       "      <td>0.184355</td>\n",
       "    </tr>\n",
       "  </tbody>\n",
       "</table>\n",
       "<p>2 rows × 43 columns</p>\n",
       "</div>"
      ],
      "text/plain": [
       "   Unnamed: 0.1  Unnamed: 0 fire_name  fire_size fire_size_class  \\\n",
       "0             0           0       NaN       10.0               C   \n",
       "1             1           1       NaN        3.0               B   \n",
       "\n",
       "    stat_cause_descr   latitude  longitude state disc_clean_date  ...  \\\n",
       "0  Missing/Undefined  18.105072 -66.753044    PR       2/11/2007  ...   \n",
       "1              Arson  35.038330 -87.610000    TN      12/11/2006  ...   \n",
       "\n",
       "  Wind_cont Hum_pre_30 Hum_pre_15  Hum_pre_7   Hum_cont Prec_pre_30  \\\n",
       "0  3.250413   78.21659  76.793750  76.381579  78.724370         0.0   \n",
       "1  2.122320   70.84000  65.858911  55.505882  81.682678        59.8   \n",
       "\n",
       "   Prec_pre_15 Prec_pre_7 Prec_cont  remoteness  \n",
       "0          0.0        0.0       0.0    0.017923  \n",
       "1          8.4        0.0      86.8    0.184355  \n",
       "\n",
       "[2 rows x 43 columns]"
      ]
     },
     "execution_count": 4,
     "metadata": {},
     "output_type": "execute_result"
    }
   ],
   "source": [
    "df = pd.read_csv('wildfires.csv')\n",
    "df.head(2)"
   ]
  },
  {
   "cell_type": "code",
   "execution_count": 5,
   "metadata": {},
   "outputs": [
    {
     "data": {
      "text/plain": [
       "Unnamed: 0.1            0\n",
       "Unnamed: 0              0\n",
       "fire_name           29454\n",
       "fire_size               0\n",
       "fire_size_class         0\n",
       "stat_cause_descr        0\n",
       "latitude                0\n",
       "longitude               0\n",
       "state                   0\n",
       "disc_clean_date         0\n",
       "cont_clean_date     27890\n",
       "discovery_month         0\n",
       "disc_date_final     26659\n",
       "cont_date_final     29735\n",
       "putout_time         27890\n",
       "disc_date_pre           0\n",
       "disc_pre_year           0\n",
       "disc_pre_month          0\n",
       "wstation_usaf           0\n",
       "dstation_m              0\n",
       "wstation_wban           0\n",
       "wstation_byear          0\n",
       "wstation_eyear          0\n",
       "Vegetation              0\n",
       "fire_mag                0\n",
       "weather_file            0\n",
       "Temp_pre_30             0\n",
       "Temp_pre_15             0\n",
       "Temp_pre_7              0\n",
       "Temp_cont               0\n",
       "Wind_pre_30             0\n",
       "Wind_pre_15             0\n",
       "Wind_pre_7              0\n",
       "Wind_cont               0\n",
       "Hum_pre_30              0\n",
       "Hum_pre_15              0\n",
       "Hum_pre_7               0\n",
       "Hum_cont                0\n",
       "Prec_pre_30             0\n",
       "Prec_pre_15             0\n",
       "Prec_pre_7              0\n",
       "Prec_cont               0\n",
       "remoteness              0\n",
       "dtype: int64"
      ]
     },
     "execution_count": 5,
     "metadata": {},
     "output_type": "execute_result"
    }
   ],
   "source": [
    "df.isna().sum()"
   ]
  },
  {
   "cell_type": "code",
   "execution_count": 6,
   "metadata": {},
   "outputs": [
    {
     "data": {
      "text/plain": [
       "Index(['Unnamed: 0.1', 'Unnamed: 0', 'fire_name', 'fire_size',\n",
       "       'fire_size_class', 'stat_cause_descr', 'latitude', 'longitude', 'state',\n",
       "       'disc_clean_date', 'cont_clean_date', 'discovery_month',\n",
       "       'disc_date_final', 'cont_date_final', 'putout_time', 'disc_date_pre',\n",
       "       'disc_pre_year', 'disc_pre_month', 'wstation_usaf', 'dstation_m',\n",
       "       'wstation_wban', 'wstation_byear', 'wstation_eyear', 'Vegetation',\n",
       "       'fire_mag', 'weather_file', 'Temp_pre_30', 'Temp_pre_15', 'Temp_pre_7',\n",
       "       'Temp_cont', 'Wind_pre_30', 'Wind_pre_15', 'Wind_pre_7', 'Wind_cont',\n",
       "       'Hum_pre_30', 'Hum_pre_15', 'Hum_pre_7', 'Hum_cont', 'Prec_pre_30',\n",
       "       'Prec_pre_15', 'Prec_pre_7', 'Prec_cont', 'remoteness'],\n",
       "      dtype='object')"
      ]
     },
     "execution_count": 6,
     "metadata": {},
     "output_type": "execute_result"
    }
   ],
   "source": [
    "df.columns"
   ]
  },
  {
   "cell_type": "code",
   "execution_count": 7,
   "metadata": {},
   "outputs": [
    {
     "data": {
      "text/plain": [
       "(55367, 43)"
      ]
     },
     "execution_count": 7,
     "metadata": {},
     "output_type": "execute_result"
    }
   ],
   "source": [
    "df.shape"
   ]
  },
  {
   "cell_type": "code",
   "execution_count": 9,
   "metadata": {},
   "outputs": [
    {
     "data": {
      "text/html": [
       "<div>\n",
       "<style scoped>\n",
       "    .dataframe tbody tr th:only-of-type {\n",
       "        vertical-align: middle;\n",
       "    }\n",
       "\n",
       "    .dataframe tbody tr th {\n",
       "        vertical-align: top;\n",
       "    }\n",
       "\n",
       "    .dataframe thead th {\n",
       "        text-align: right;\n",
       "    }\n",
       "</style>\n",
       "<table border=\"1\" class=\"dataframe\">\n",
       "  <thead>\n",
       "    <tr style=\"text-align: right;\">\n",
       "      <th></th>\n",
       "      <th>Unnamed: 0.1</th>\n",
       "      <th>Unnamed: 0</th>\n",
       "      <th>fire_name</th>\n",
       "      <th>fire_size</th>\n",
       "      <th>fire_size_class</th>\n",
       "      <th>stat_cause_descr</th>\n",
       "      <th>latitude</th>\n",
       "      <th>longitude</th>\n",
       "      <th>state</th>\n",
       "      <th>disc_clean_date</th>\n",
       "      <th>...</th>\n",
       "      <th>Hum_pre_30</th>\n",
       "      <th>Hum_pre_15</th>\n",
       "      <th>Hum_pre_7</th>\n",
       "      <th>Hum_cont</th>\n",
       "      <th>Prec_pre_30</th>\n",
       "      <th>Prec_pre_15</th>\n",
       "      <th>Prec_pre_7</th>\n",
       "      <th>Prec_cont</th>\n",
       "      <th>remoteness</th>\n",
       "      <th>cause_code</th>\n",
       "    </tr>\n",
       "  </thead>\n",
       "  <tbody>\n",
       "    <tr>\n",
       "      <th>0</th>\n",
       "      <td>0</td>\n",
       "      <td>0</td>\n",
       "      <td>NaN</td>\n",
       "      <td>10.0</td>\n",
       "      <td>C</td>\n",
       "      <td>Missing/Undefined</td>\n",
       "      <td>18.105072</td>\n",
       "      <td>-66.753044</td>\n",
       "      <td>PR</td>\n",
       "      <td>2/11/2007</td>\n",
       "      <td>...</td>\n",
       "      <td>78.216590</td>\n",
       "      <td>76.793750</td>\n",
       "      <td>76.381579</td>\n",
       "      <td>78.724370</td>\n",
       "      <td>0.0</td>\n",
       "      <td>0.0</td>\n",
       "      <td>0.0</td>\n",
       "      <td>0.0</td>\n",
       "      <td>0.017923</td>\n",
       "      <td>8</td>\n",
       "    </tr>\n",
       "    <tr>\n",
       "      <th>1</th>\n",
       "      <td>1</td>\n",
       "      <td>1</td>\n",
       "      <td>NaN</td>\n",
       "      <td>3.0</td>\n",
       "      <td>B</td>\n",
       "      <td>Arson</td>\n",
       "      <td>35.038330</td>\n",
       "      <td>-87.610000</td>\n",
       "      <td>TN</td>\n",
       "      <td>12/11/2006</td>\n",
       "      <td>...</td>\n",
       "      <td>70.840000</td>\n",
       "      <td>65.858911</td>\n",
       "      <td>55.505882</td>\n",
       "      <td>81.682678</td>\n",
       "      <td>59.8</td>\n",
       "      <td>8.4</td>\n",
       "      <td>0.0</td>\n",
       "      <td>86.8</td>\n",
       "      <td>0.184355</td>\n",
       "      <td>0</td>\n",
       "    </tr>\n",
       "    <tr>\n",
       "      <th>2</th>\n",
       "      <td>2</td>\n",
       "      <td>2</td>\n",
       "      <td>NaN</td>\n",
       "      <td>60.0</td>\n",
       "      <td>C</td>\n",
       "      <td>Arson</td>\n",
       "      <td>34.947800</td>\n",
       "      <td>-88.722500</td>\n",
       "      <td>MS</td>\n",
       "      <td>2/29/2004</td>\n",
       "      <td>...</td>\n",
       "      <td>75.531629</td>\n",
       "      <td>75.868613</td>\n",
       "      <td>76.812834</td>\n",
       "      <td>65.063800</td>\n",
       "      <td>168.8</td>\n",
       "      <td>42.2</td>\n",
       "      <td>18.1</td>\n",
       "      <td>124.5</td>\n",
       "      <td>0.194544</td>\n",
       "      <td>0</td>\n",
       "    </tr>\n",
       "    <tr>\n",
       "      <th>3</th>\n",
       "      <td>3</td>\n",
       "      <td>3</td>\n",
       "      <td>WNA  1</td>\n",
       "      <td>1.0</td>\n",
       "      <td>B</td>\n",
       "      <td>Debris Burning</td>\n",
       "      <td>39.641400</td>\n",
       "      <td>-119.308300</td>\n",
       "      <td>NV</td>\n",
       "      <td>6/6/2005</td>\n",
       "      <td>...</td>\n",
       "      <td>44.778429</td>\n",
       "      <td>37.140811</td>\n",
       "      <td>35.353846</td>\n",
       "      <td>0.000000</td>\n",
       "      <td>10.4</td>\n",
       "      <td>7.2</td>\n",
       "      <td>0.0</td>\n",
       "      <td>0.0</td>\n",
       "      <td>0.487447</td>\n",
       "      <td>3</td>\n",
       "    </tr>\n",
       "    <tr>\n",
       "      <th>4</th>\n",
       "      <td>4</td>\n",
       "      <td>4</td>\n",
       "      <td>NaN</td>\n",
       "      <td>2.0</td>\n",
       "      <td>B</td>\n",
       "      <td>Miscellaneous</td>\n",
       "      <td>30.700600</td>\n",
       "      <td>-90.591400</td>\n",
       "      <td>LA</td>\n",
       "      <td>9/22/1999</td>\n",
       "      <td>...</td>\n",
       "      <td>-1.000000</td>\n",
       "      <td>-1.000000</td>\n",
       "      <td>-1.000000</td>\n",
       "      <td>-1.000000</td>\n",
       "      <td>-1.0</td>\n",
       "      <td>-1.0</td>\n",
       "      <td>-1.0</td>\n",
       "      <td>-1.0</td>\n",
       "      <td>0.214633</td>\n",
       "      <td>7</td>\n",
       "    </tr>\n",
       "  </tbody>\n",
       "</table>\n",
       "<p>5 rows × 44 columns</p>\n",
       "</div>"
      ],
      "text/plain": [
       "   Unnamed: 0.1  Unnamed: 0 fire_name  fire_size fire_size_class  \\\n",
       "0             0           0       NaN       10.0               C   \n",
       "1             1           1       NaN        3.0               B   \n",
       "2             2           2       NaN       60.0               C   \n",
       "3             3           3    WNA  1        1.0               B   \n",
       "4             4           4       NaN        2.0               B   \n",
       "\n",
       "    stat_cause_descr   latitude   longitude state disc_clean_date  ...  \\\n",
       "0  Missing/Undefined  18.105072  -66.753044    PR       2/11/2007  ...   \n",
       "1              Arson  35.038330  -87.610000    TN      12/11/2006  ...   \n",
       "2              Arson  34.947800  -88.722500    MS       2/29/2004  ...   \n",
       "3     Debris Burning  39.641400 -119.308300    NV        6/6/2005  ...   \n",
       "4      Miscellaneous  30.700600  -90.591400    LA       9/22/1999  ...   \n",
       "\n",
       "  Hum_pre_30 Hum_pre_15  Hum_pre_7   Hum_cont Prec_pre_30 Prec_pre_15  \\\n",
       "0  78.216590  76.793750  76.381579  78.724370         0.0         0.0   \n",
       "1  70.840000  65.858911  55.505882  81.682678        59.8         8.4   \n",
       "2  75.531629  75.868613  76.812834  65.063800       168.8        42.2   \n",
       "3  44.778429  37.140811  35.353846   0.000000        10.4         7.2   \n",
       "4  -1.000000  -1.000000  -1.000000  -1.000000        -1.0        -1.0   \n",
       "\n",
       "   Prec_pre_7 Prec_cont remoteness  cause_code  \n",
       "0         0.0       0.0   0.017923           8  \n",
       "1         0.0      86.8   0.184355           0  \n",
       "2        18.1     124.5   0.194544           0  \n",
       "3         0.0       0.0   0.487447           3  \n",
       "4        -1.0      -1.0   0.214633           7  \n",
       "\n",
       "[5 rows x 44 columns]"
      ]
     },
     "execution_count": 9,
     "metadata": {},
     "output_type": "execute_result"
    }
   ],
   "source": [
    "#encode stat_cause_descr\n",
    "df[\"cause_code\"] = df[\"stat_cause_descr\"].astype('category').cat.codes\n",
    "\n",
    "c = df[\"stat_cause_descr\"].astype('category')\n",
    "cause_dict = dict(enumerate(c.cat.categories))\n",
    "df.head()"
   ]
  },
  {
   "cell_type": "code",
   "execution_count": 10,
   "metadata": {},
   "outputs": [
    {
     "name": "stdout",
     "output_type": "stream",
     "text": [
      "{0: 'Arson', 1: 'Campfire', 2: 'Children', 3: 'Debris Burning', 4: 'Equipment Use', 5: 'Fireworks', 6: 'Lightning', 7: 'Miscellaneous', 8: 'Missing/Undefined', 9: 'Powerline', 10: 'Railroad', 11: 'Smoking', 12: 'Structure'}\n"
     ]
    }
   ],
   "source": [
    "print(cause_dict)"
   ]
  },
  {
   "cell_type": "code",
   "execution_count": 11,
   "metadata": {},
   "outputs": [
    {
     "data": {
      "text/html": [
       "<div>\n",
       "<style scoped>\n",
       "    .dataframe tbody tr th:only-of-type {\n",
       "        vertical-align: middle;\n",
       "    }\n",
       "\n",
       "    .dataframe tbody tr th {\n",
       "        vertical-align: top;\n",
       "    }\n",
       "\n",
       "    .dataframe thead th {\n",
       "        text-align: right;\n",
       "    }\n",
       "</style>\n",
       "<table border=\"1\" class=\"dataframe\">\n",
       "  <thead>\n",
       "    <tr style=\"text-align: right;\">\n",
       "      <th></th>\n",
       "      <th>Unnamed: 0.1</th>\n",
       "      <th>Unnamed: 0</th>\n",
       "      <th>fire_name</th>\n",
       "      <th>fire_size</th>\n",
       "      <th>fire_size_class</th>\n",
       "      <th>stat_cause_descr</th>\n",
       "      <th>latitude</th>\n",
       "      <th>longitude</th>\n",
       "      <th>state</th>\n",
       "      <th>disc_clean_date</th>\n",
       "      <th>...</th>\n",
       "      <th>Hum_pre_15</th>\n",
       "      <th>Hum_pre_7</th>\n",
       "      <th>Hum_cont</th>\n",
       "      <th>Prec_pre_30</th>\n",
       "      <th>Prec_pre_15</th>\n",
       "      <th>Prec_pre_7</th>\n",
       "      <th>Prec_cont</th>\n",
       "      <th>remoteness</th>\n",
       "      <th>cause_code</th>\n",
       "      <th>state_code</th>\n",
       "    </tr>\n",
       "  </thead>\n",
       "  <tbody>\n",
       "    <tr>\n",
       "      <th>0</th>\n",
       "      <td>0</td>\n",
       "      <td>0</td>\n",
       "      <td>NaN</td>\n",
       "      <td>10.0</td>\n",
       "      <td>C</td>\n",
       "      <td>Missing/Undefined</td>\n",
       "      <td>18.105072</td>\n",
       "      <td>-66.753044</td>\n",
       "      <td>PR</td>\n",
       "      <td>2/11/2007</td>\n",
       "      <td>...</td>\n",
       "      <td>76.793750</td>\n",
       "      <td>76.381579</td>\n",
       "      <td>78.724370</td>\n",
       "      <td>0.0</td>\n",
       "      <td>0.0</td>\n",
       "      <td>0.0</td>\n",
       "      <td>0.0</td>\n",
       "      <td>0.017923</td>\n",
       "      <td>8</td>\n",
       "      <td>38</td>\n",
       "    </tr>\n",
       "    <tr>\n",
       "      <th>1</th>\n",
       "      <td>1</td>\n",
       "      <td>1</td>\n",
       "      <td>NaN</td>\n",
       "      <td>3.0</td>\n",
       "      <td>B</td>\n",
       "      <td>Arson</td>\n",
       "      <td>35.038330</td>\n",
       "      <td>-87.610000</td>\n",
       "      <td>TN</td>\n",
       "      <td>12/11/2006</td>\n",
       "      <td>...</td>\n",
       "      <td>65.858911</td>\n",
       "      <td>55.505882</td>\n",
       "      <td>81.682678</td>\n",
       "      <td>59.8</td>\n",
       "      <td>8.4</td>\n",
       "      <td>0.0</td>\n",
       "      <td>86.8</td>\n",
       "      <td>0.184355</td>\n",
       "      <td>0</td>\n",
       "      <td>42</td>\n",
       "    </tr>\n",
       "    <tr>\n",
       "      <th>2</th>\n",
       "      <td>2</td>\n",
       "      <td>2</td>\n",
       "      <td>NaN</td>\n",
       "      <td>60.0</td>\n",
       "      <td>C</td>\n",
       "      <td>Arson</td>\n",
       "      <td>34.947800</td>\n",
       "      <td>-88.722500</td>\n",
       "      <td>MS</td>\n",
       "      <td>2/29/2004</td>\n",
       "      <td>...</td>\n",
       "      <td>75.868613</td>\n",
       "      <td>76.812834</td>\n",
       "      <td>65.063800</td>\n",
       "      <td>168.8</td>\n",
       "      <td>42.2</td>\n",
       "      <td>18.1</td>\n",
       "      <td>124.5</td>\n",
       "      <td>0.194544</td>\n",
       "      <td>0</td>\n",
       "      <td>24</td>\n",
       "    </tr>\n",
       "    <tr>\n",
       "      <th>3</th>\n",
       "      <td>3</td>\n",
       "      <td>3</td>\n",
       "      <td>WNA  1</td>\n",
       "      <td>1.0</td>\n",
       "      <td>B</td>\n",
       "      <td>Debris Burning</td>\n",
       "      <td>39.641400</td>\n",
       "      <td>-119.308300</td>\n",
       "      <td>NV</td>\n",
       "      <td>6/6/2005</td>\n",
       "      <td>...</td>\n",
       "      <td>37.140811</td>\n",
       "      <td>35.353846</td>\n",
       "      <td>0.000000</td>\n",
       "      <td>10.4</td>\n",
       "      <td>7.2</td>\n",
       "      <td>0.0</td>\n",
       "      <td>0.0</td>\n",
       "      <td>0.487447</td>\n",
       "      <td>3</td>\n",
       "      <td>32</td>\n",
       "    </tr>\n",
       "    <tr>\n",
       "      <th>4</th>\n",
       "      <td>4</td>\n",
       "      <td>4</td>\n",
       "      <td>NaN</td>\n",
       "      <td>2.0</td>\n",
       "      <td>B</td>\n",
       "      <td>Miscellaneous</td>\n",
       "      <td>30.700600</td>\n",
       "      <td>-90.591400</td>\n",
       "      <td>LA</td>\n",
       "      <td>9/22/1999</td>\n",
       "      <td>...</td>\n",
       "      <td>-1.000000</td>\n",
       "      <td>-1.000000</td>\n",
       "      <td>-1.000000</td>\n",
       "      <td>-1.0</td>\n",
       "      <td>-1.0</td>\n",
       "      <td>-1.0</td>\n",
       "      <td>-1.0</td>\n",
       "      <td>0.214633</td>\n",
       "      <td>7</td>\n",
       "      <td>17</td>\n",
       "    </tr>\n",
       "  </tbody>\n",
       "</table>\n",
       "<p>5 rows × 45 columns</p>\n",
       "</div>"
      ],
      "text/plain": [
       "   Unnamed: 0.1  Unnamed: 0 fire_name  fire_size fire_size_class  \\\n",
       "0             0           0       NaN       10.0               C   \n",
       "1             1           1       NaN        3.0               B   \n",
       "2             2           2       NaN       60.0               C   \n",
       "3             3           3    WNA  1        1.0               B   \n",
       "4             4           4       NaN        2.0               B   \n",
       "\n",
       "    stat_cause_descr   latitude   longitude state disc_clean_date  ...  \\\n",
       "0  Missing/Undefined  18.105072  -66.753044    PR       2/11/2007  ...   \n",
       "1              Arson  35.038330  -87.610000    TN      12/11/2006  ...   \n",
       "2              Arson  34.947800  -88.722500    MS       2/29/2004  ...   \n",
       "3     Debris Burning  39.641400 -119.308300    NV        6/6/2005  ...   \n",
       "4      Miscellaneous  30.700600  -90.591400    LA       9/22/1999  ...   \n",
       "\n",
       "  Hum_pre_15  Hum_pre_7   Hum_cont Prec_pre_30 Prec_pre_15 Prec_pre_7  \\\n",
       "0  76.793750  76.381579  78.724370         0.0         0.0        0.0   \n",
       "1  65.858911  55.505882  81.682678        59.8         8.4        0.0   \n",
       "2  75.868613  76.812834  65.063800       168.8        42.2       18.1   \n",
       "3  37.140811  35.353846   0.000000        10.4         7.2        0.0   \n",
       "4  -1.000000  -1.000000  -1.000000        -1.0        -1.0       -1.0   \n",
       "\n",
       "   Prec_cont remoteness cause_code  state_code  \n",
       "0        0.0   0.017923          8          38  \n",
       "1       86.8   0.184355          0          42  \n",
       "2      124.5   0.194544          0          24  \n",
       "3        0.0   0.487447          3          32  \n",
       "4       -1.0   0.214633          7          17  \n",
       "\n",
       "[5 rows x 45 columns]"
      ]
     },
     "execution_count": 11,
     "metadata": {},
     "output_type": "execute_result"
    }
   ],
   "source": [
    "#encode state\n",
    "df[\"state_code\"] = df[\"state\"].astype('category').cat.codes\n",
    "\n",
    "s = df[\"state\"].astype('category')\n",
    "state_dict = dict(enumerate(s.cat.categories))\n",
    "df.head()"
   ]
  },
  {
   "cell_type": "code",
   "execution_count": 12,
   "metadata": {},
   "outputs": [
    {
     "name": "stdout",
     "output_type": "stream",
     "text": [
      "{0: 'AK', 1: 'AL', 2: 'AR', 3: 'AZ', 4: 'CA', 5: 'CO', 6: 'CT', 7: 'DE', 8: 'FL', 9: 'GA', 10: 'HI', 11: 'IA', 12: 'ID', 13: 'IL', 14: 'IN', 15: 'KS', 16: 'KY', 17: 'LA', 18: 'MA', 19: 'MD', 20: 'ME', 21: 'MI', 22: 'MN', 23: 'MO', 24: 'MS', 25: 'MT', 26: 'NC', 27: 'ND', 28: 'NE', 29: 'NH', 30: 'NJ', 31: 'NM', 32: 'NV', 33: 'NY', 34: 'OH', 35: 'OK', 36: 'OR', 37: 'PA', 38: 'PR', 39: 'RI', 40: 'SC', 41: 'SD', 42: 'TN', 43: 'TX', 44: 'UT', 45: 'VA', 46: 'VT', 47: 'WA', 48: 'WI', 49: 'WV', 50: 'WY'}\n"
     ]
    }
   ],
   "source": [
    "print(state_dict)"
   ]
  },
  {
   "cell_type": "code",
   "execution_count": 14,
   "metadata": {},
   "outputs": [
    {
     "name": "stdout",
     "output_type": "stream",
     "text": [
      "<class 'pandas.core.frame.DataFrame'>\n",
      "RangeIndex: 55367 entries, 0 to 55366\n",
      "Data columns (total 45 columns):\n",
      " #   Column            Non-Null Count  Dtype  \n",
      "---  ------            --------------  -----  \n",
      " 0   Unnamed: 0.1      55367 non-null  int64  \n",
      " 1   Unnamed: 0        55367 non-null  int64  \n",
      " 2   fire_name         25913 non-null  object \n",
      " 3   fire_size         55367 non-null  float64\n",
      " 4   fire_size_class   55367 non-null  object \n",
      " 5   stat_cause_descr  55367 non-null  object \n",
      " 6   latitude          55367 non-null  float64\n",
      " 7   longitude         55367 non-null  float64\n",
      " 8   state             55367 non-null  object \n",
      " 9   disc_clean_date   55367 non-null  object \n",
      " 10  cont_clean_date   27477 non-null  object \n",
      " 11  discovery_month   55367 non-null  object \n",
      " 12  disc_date_final   28708 non-null  object \n",
      " 13  cont_date_final   25632 non-null  object \n",
      " 14  putout_time       27477 non-null  object \n",
      " 15  disc_date_pre     55367 non-null  object \n",
      " 16  disc_pre_year     55367 non-null  int64  \n",
      " 17  disc_pre_month    55367 non-null  object \n",
      " 18  wstation_usaf     55367 non-null  object \n",
      " 19  dstation_m        55367 non-null  float64\n",
      " 20  wstation_wban     55367 non-null  int64  \n",
      " 21  wstation_byear    55367 non-null  int64  \n",
      " 22  wstation_eyear    55367 non-null  int64  \n",
      " 23  Vegetation        55367 non-null  int64  \n",
      " 24  fire_mag          55367 non-null  float64\n",
      " 25  weather_file      55367 non-null  object \n",
      " 26  Temp_pre_30       55367 non-null  float64\n",
      " 27  Temp_pre_15       55367 non-null  float64\n",
      " 28  Temp_pre_7        55367 non-null  float64\n",
      " 29  Temp_cont         55367 non-null  float64\n",
      " 30  Wind_pre_30       55367 non-null  float64\n",
      " 31  Wind_pre_15       55367 non-null  float64\n",
      " 32  Wind_pre_7        55367 non-null  float64\n",
      " 33  Wind_cont         55367 non-null  float64\n",
      " 34  Hum_pre_30        55367 non-null  float64\n",
      " 35  Hum_pre_15        55367 non-null  float64\n",
      " 36  Hum_pre_7         55367 non-null  float64\n",
      " 37  Hum_cont          55367 non-null  float64\n",
      " 38  Prec_pre_30       55367 non-null  float64\n",
      " 39  Prec_pre_15       55367 non-null  float64\n",
      " 40  Prec_pre_7        55367 non-null  float64\n",
      " 41  Prec_cont         55367 non-null  float64\n",
      " 42  remoteness        55367 non-null  float64\n",
      " 43  cause_code        55367 non-null  int8   \n",
      " 44  state_code        55367 non-null  int8   \n",
      "dtypes: float64(22), int64(7), int8(2), object(14)\n",
      "memory usage: 18.3+ MB\n"
     ]
    }
   ],
   "source": [
    "df.info()"
   ]
  },
  {
   "cell_type": "code",
   "execution_count": 15,
   "metadata": {},
   "outputs": [
    {
     "name": "stdout",
     "output_type": "stream",
     "text": [
      "(55367, 21)\n",
      "(55367, 1)\n"
     ]
    }
   ],
   "source": [
    "X = df[['cause_code', 'state_code','Vegetation',\n",
    "       'fire_mag', 'Temp_pre_30', 'Temp_pre_15', 'Temp_pre_7',\n",
    "       'Temp_cont', 'Wind_pre_30', 'Wind_pre_15', 'Wind_pre_7', 'Wind_cont',\n",
    "       'Hum_pre_30', 'Hum_pre_15', 'Hum_pre_7', 'Hum_cont', 'Prec_pre_30',\n",
    "       'Prec_pre_15', 'Prec_pre_7', 'Prec_cont', 'remoteness']]\n",
    "\n",
    "y = df[['fire_size']]\n",
    "\n",
    "\n",
    "print(X.shape)\n",
    "print(y.shape)"
   ]
  },
  {
   "cell_type": "markdown",
   "metadata": {
    "id": "j6Ecd4aJAiFU"
   },
   "source": [
    "### Correct workflow avoiding data leakage"
   ]
  },
  {
   "cell_type": "code",
   "execution_count": 16,
   "metadata": {},
   "outputs": [
    {
     "name": "stdout",
     "output_type": "stream",
     "text": [
      "<class 'pandas.core.frame.DataFrame'>\n",
      "RangeIndex: 55367 entries, 0 to 55366\n",
      "Data columns (total 21 columns):\n",
      " #   Column       Non-Null Count  Dtype  \n",
      "---  ------       --------------  -----  \n",
      " 0   cause_code   55367 non-null  int8   \n",
      " 1   state_code   55367 non-null  int8   \n",
      " 2   Vegetation   55367 non-null  int64  \n",
      " 3   fire_mag     55367 non-null  float64\n",
      " 4   Temp_pre_30  55367 non-null  float64\n",
      " 5   Temp_pre_15  55367 non-null  float64\n",
      " 6   Temp_pre_7   55367 non-null  float64\n",
      " 7   Temp_cont    55367 non-null  float64\n",
      " 8   Wind_pre_30  55367 non-null  float64\n",
      " 9   Wind_pre_15  55367 non-null  float64\n",
      " 10  Wind_pre_7   55367 non-null  float64\n",
      " 11  Wind_cont    55367 non-null  float64\n",
      " 12  Hum_pre_30   55367 non-null  float64\n",
      " 13  Hum_pre_15   55367 non-null  float64\n",
      " 14  Hum_pre_7    55367 non-null  float64\n",
      " 15  Hum_cont     55367 non-null  float64\n",
      " 16  Prec_pre_30  55367 non-null  float64\n",
      " 17  Prec_pre_15  55367 non-null  float64\n",
      " 18  Prec_pre_7   55367 non-null  float64\n",
      " 19  Prec_cont    55367 non-null  float64\n",
      " 20  remoteness   55367 non-null  float64\n",
      "dtypes: float64(18), int64(1), int8(2)\n",
      "memory usage: 8.1 MB\n"
     ]
    }
   ],
   "source": [
    "X.info()"
   ]
  },
  {
   "cell_type": "code",
   "execution_count": 17,
   "metadata": {},
   "outputs": [
    {
     "name": "stdout",
     "output_type": "stream",
     "text": [
      "<class 'pandas.core.frame.DataFrame'>\n",
      "RangeIndex: 55367 entries, 0 to 55366\n",
      "Data columns (total 1 columns):\n",
      " #   Column     Non-Null Count  Dtype  \n",
      "---  ------     --------------  -----  \n",
      " 0   fire_size  55367 non-null  float64\n",
      "dtypes: float64(1)\n",
      "memory usage: 432.7 KB\n"
     ]
    }
   ],
   "source": [
    "y.info()"
   ]
  },
  {
   "cell_type": "code",
   "execution_count": 18,
   "metadata": {
    "colab": {
     "base_uri": "https://localhost:8080/"
    },
    "executionInfo": {
     "elapsed": 141,
     "status": "ok",
     "timestamp": 1650492343047,
     "user": {
      "displayName": "Raja Sooriamurthi",
      "userId": "11358474519609094405"
     },
     "user_tz": 240
    },
    "id": "28zgIaPkAiFU",
    "outputId": "c8501634-503a-4d0d-dd09-113531e74c30"
   },
   "outputs": [
    {
     "name": "stdout",
     "output_type": "stream",
     "text": [
      "Train R-squared:  0.21861875024076804\n",
      "Train MSE: 158412671.74\n",
      "Testing R-squared:  0.20784940734882174\n",
      "Test MSE: 210053093.76\n"
     ]
    }
   ],
   "source": [
    "# split first\n",
    "X_train, X_test, y_train, y_test = train_test_split(X, y, test_size=0.25, random_state=1)\n",
    "\n",
    "scaler = MinMaxScaler()\n",
    "scaler.fit(X_train)\n",
    "X_train = scaler.transform(X_train)\n",
    "\n",
    "# scale the test dataset\n",
    "X_test = scaler.transform(X_test)\n",
    "model1 = LinearRegression()\n",
    "\n",
    "model1.fit(X_train, y_train)\n",
    "\n",
    "yhat = model1.predict(X_test)\n",
    "\n",
    "print(\"Train R-squared: \", model1.score(X_train,y_train))\n",
    "print('Train MSE: %.2f'% mean_squared_error(y_train, model1.predict(X_train)))\n",
    "print(\"Testing R-squared: \", model1.score(X_test,y_test))\n",
    "print('Test MSE: %.2f'% mean_squared_error(y_test, model1.predict(X_test)))"
   ]
  },
  {
   "attachments": {},
   "cell_type": "markdown",
   "metadata": {},
   "source": [
    "---resume from here"
   ]
  },
  {
   "cell_type": "markdown",
   "metadata": {
    "id": "G6vYwnbfAiFV"
   },
   "source": [
    "### Data Leakage with k-fold CV"
   ]
  },
  {
   "cell_type": "code",
   "execution_count": 5,
   "metadata": {
    "id": "6bgI1soBAiFW",
    "outputId": "fa325518-8c34-41b6-b45f-23dbff455d14"
   },
   "outputs": [
    {
     "name": "stdout",
     "output_type": "stream",
     "text": [
      "Accuracy: 0.853 (0.036)\n"
     ]
    }
   ],
   "source": [
    "X, y = make_classification(n_samples=1000, n_features=20, \n",
    "                           n_informative=15, n_redundant=5, \n",
    "                           random_state=7)\n",
    "\n",
    "scaler = MinMaxScaler()\n",
    "X = scaler.fit_transform(X)\n",
    "\n",
    "model = LogisticRegression()\n",
    "\n",
    "cv = RepeatedStratifiedKFold(n_splits=10, n_repeats=3, random_state=1)\n",
    "\n",
    "scores = cross_val_score(model, X, y, scoring='accuracy', cv=cv ) #, n_jobs=-1)\n",
    "\n",
    "print('Accuracy: %.3f (%.3f)' % (scores.mean(), scores.std()))"
   ]
  },
  {
   "cell_type": "code",
   "execution_count": null,
   "metadata": {
    "id": "0xHk4G4KAiFW",
    "outputId": "047d160d-d92c-4810-a565-7fa5d7e6225c",
    "scrolled": true
   },
   "outputs": [
    {
     "data": {
      "text/plain": [
       "(array([0.86, 0.91, 0.88, 0.81, 0.83, 0.84, 0.81, 0.84, 0.88, 0.84, 0.84,\n",
       "        0.86, 0.85, 0.83, 0.89, 0.87, 0.79, 0.97, 0.84, 0.84, 0.81, 0.88,\n",
       "        0.8 , 0.85, 0.89, 0.88, 0.87, 0.83, 0.83, 0.87]),\n",
       " 30)"
      ]
     },
     "execution_count": 6,
     "metadata": {},
     "output_type": "execute_result"
    }
   ],
   "source": [
    "scores, len(scores)"
   ]
  },
  {
   "cell_type": "markdown",
   "metadata": {
    "id": "0Lmoy9pMAiFX"
   },
   "source": [
    "### Use a Pipeline to avoid data leakage during k-fold CV"
   ]
  },
  {
   "cell_type": "code",
   "execution_count": 6,
   "metadata": {
    "id": "ocQy_lUBAiFY",
    "outputId": "3ef61072-29c7-47ce-fe66-7bcc098c5935"
   },
   "outputs": [
    {
     "name": "stdout",
     "output_type": "stream",
     "text": [
      "Accuracy: 0.854 (0.035)\n"
     ]
    }
   ],
   "source": [
    "from sklearn.pipeline import Pipeline\n",
    "\n",
    "X, y = make_classification(n_samples=1000, n_features=20, \n",
    "                           n_informative=15, n_redundant=5, \n",
    "                           random_state=7)\n",
    "\n",
    "pipe = Pipeline(steps = \n",
    "                [('scaler', MinMaxScaler()),\n",
    "                 ('model', LogisticRegression())])\n",
    "\n",
    "cv = RepeatedStratifiedKFold(n_splits=10, n_repeats=3, random_state=1) #ensures variable proportions are preserved in train/test. like men/women. removes bias.\n",
    "\n",
    "scores = cross_val_score(pipe, X, y, scoring='accuracy', cv=cv, n_jobs=-1)\n",
    "\n",
    "print('Accuracy: %.3f (%.3f)' % (scores.mean(), scores.std()))"
   ]
  },
  {
   "cell_type": "code",
   "execution_count": null,
   "metadata": {
    "id": "VCVlqbQUAiFY"
   },
   "outputs": [],
   "source": []
  }
 ],
 "metadata": {
  "colab": {
   "name": "01-Avoiding-Data-Leakage.ipynb",
   "provenance": []
  },
  "kernelspec": {
   "display_name": "Python 3 (ipykernel)",
   "language": "python",
   "name": "python3"
  },
  "language_info": {
   "codemirror_mode": {
    "name": "ipython",
    "version": 3
   },
   "file_extension": ".py",
   "mimetype": "text/x-python",
   "name": "python",
   "nbconvert_exporter": "python",
   "pygments_lexer": "ipython3",
   "version": "3.9.13"
  }
 },
 "nbformat": 4,
 "nbformat_minor": 1
}
