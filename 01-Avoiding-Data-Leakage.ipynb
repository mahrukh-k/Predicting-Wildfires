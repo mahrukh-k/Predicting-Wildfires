{
 "cells": [
  {
   "cell_type": "markdown",
   "metadata": {
    "id": "7fHmHRZTAiFF"
   },
   "source": [
    "# Data Leakage and its Avoidance\n",
    "\n",
    "If our workflow is:\n",
    "1. Prepare the data set (eliminate redundancy, impute, scale, ...)\n",
    "2. Split the data set\n",
    "3. Evaluate the model\n",
    "then information from the test set contaminates the preparation and fitting of the training data\n",
    "\n",
    "To avoid this the workflow should be:\n",
    "1. Split the data set\n",
    "2. **Prepare using the training data set**\n",
    "3. **Apply the same preparation to the Training and Test data sets**\n",
    "4. Evaluate the model\n"
   ]
  },
  {
   "cell_type": "code",
   "execution_count": 1,
   "metadata": {
    "executionInfo": {
     "elapsed": 1341,
     "status": "ok",
     "timestamp": 1650492333215,
     "user": {
      "displayName": "Raja Sooriamurthi",
      "userId": "11358474519609094405"
     },
     "user_tz": 240
    },
    "id": "jztJWEUcAiFK"
   },
   "outputs": [],
   "source": [
    "from sklearn.datasets import make_classification\n",
    "from sklearn.model_selection import train_test_split\n",
    "from sklearn.preprocessing import MinMaxScaler\n",
    "from sklearn.linear_model import LogisticRegression\n",
    "from sklearn.model_selection import cross_val_score\n",
    "from sklearn.model_selection import RepeatedStratifiedKFold\n",
    "from sklearn.metrics import accuracy_score"
   ]
  },
  {
   "cell_type": "markdown",
   "metadata": {
    "id": "X0eovwFYAiFL"
   },
   "source": [
    "### A synthetic data set"
   ]
  },
  {
   "cell_type": "code",
   "execution_count": 2,
   "metadata": {
    "colab": {
     "base_uri": "https://localhost:8080/"
    },
    "executionInfo": {
     "elapsed": 137,
     "status": "ok",
     "timestamp": 1650492337665,
     "user": {
      "displayName": "Raja Sooriamurthi",
      "userId": "11358474519609094405"
     },
     "user_tz": 240
    },
    "id": "2dvbD3SjAiFM",
    "outputId": "37539da6-7c73-48fe-c427-32368350f832"
   },
   "outputs": [
    {
     "data": {
      "text/plain": [
       "((1000, 20), (1000,))"
      ]
     },
     "execution_count": 2,
     "metadata": {},
     "output_type": "execute_result"
    }
   ],
   "source": [
    "X, y = make_classification(n_samples=1000, n_features=20, \n",
    "                           n_informative=15, n_redundant=5, \n",
    "                           random_state=7)\n",
    "X.shape, y.shape"
   ]
  },
  {
   "cell_type": "markdown",
   "metadata": {
    "id": "R-E5PyH9AiFN"
   },
   "source": [
    "### Workflow with data leakage"
   ]
  },
  {
   "cell_type": "code",
   "execution_count": 3,
   "metadata": {
    "colab": {
     "base_uri": "https://localhost:8080/"
    },
    "executionInfo": {
     "elapsed": 291,
     "status": "ok",
     "timestamp": 1650492340154,
     "user": {
      "displayName": "Raja Sooriamurthi",
      "userId": "11358474519609094405"
     },
     "user_tz": 240
    },
    "id": "GmakTGAZAiFN",
    "outputId": "16aed251-091f-48c2-b7fc-9adef3fa1fc4"
   },
   "outputs": [
    {
     "name": "stdout",
     "output_type": "stream",
     "text": [
      "Accuracy: 0.848\n"
     ]
    }
   ],
   "source": [
    "scaler = MinMaxScaler()\n",
    "\n",
    "# !!! fitting before the split\n",
    "X = scaler.fit_transform(X) \n",
    "\n",
    "X_train, X_test, y_train, y_test = train_test_split(X, y, test_size=0.33, random_state=1)\n",
    "\n",
    "model = LogisticRegression()\n",
    "model.fit(X_train, y_train)\n",
    "\n",
    "yhat = model.predict(X_test)\n",
    "\n",
    "accuracy = accuracy_score(y_test, yhat)\n",
    "print('Accuracy: %.3f' % accuracy)\n"
   ]
  },
  {
   "cell_type": "markdown",
   "metadata": {
    "id": "j6Ecd4aJAiFU"
   },
   "source": [
    "### Correct workflow avoiding data leakage"
   ]
  },
  {
   "cell_type": "code",
   "execution_count": 4,
   "metadata": {
    "colab": {
     "base_uri": "https://localhost:8080/"
    },
    "executionInfo": {
     "elapsed": 141,
     "status": "ok",
     "timestamp": 1650492343047,
     "user": {
      "displayName": "Raja Sooriamurthi",
      "userId": "11358474519609094405"
     },
     "user_tz": 240
    },
    "id": "28zgIaPkAiFU",
    "outputId": "c8501634-503a-4d0d-dd09-113531e74c30"
   },
   "outputs": [
    {
     "name": "stdout",
     "output_type": "stream",
     "text": [
      "Accuracy: 0.855\n"
     ]
    }
   ],
   "source": [
    "# split first\n",
    "X_train, X_test, y_train, y_test = train_test_split(X, y, test_size=0.33, random_state=1)\n",
    "\n",
    "scaler = MinMaxScaler()\n",
    "scaler.fit(X_train)\n",
    "X_train = scaler.transform(X_train)\n",
    "\n",
    "# scale the test dataset\n",
    "X_test = scaler.transform(X_test)\n",
    "model = LogisticRegression()\n",
    "\n",
    "model.fit(X_train, y_train)\n",
    "\n",
    "yhat = model.predict(X_test)\n",
    "\n",
    "accuracy = accuracy_score(y_test, yhat)\n",
    "print('Accuracy: %.3f' % accuracy)"
   ]
  },
  {
   "cell_type": "markdown",
   "metadata": {
    "id": "G6vYwnbfAiFV"
   },
   "source": [
    "### Data Leakage with k-fold CV"
   ]
  },
  {
   "cell_type": "code",
   "execution_count": 5,
   "metadata": {
    "id": "6bgI1soBAiFW",
    "outputId": "fa325518-8c34-41b6-b45f-23dbff455d14"
   },
   "outputs": [
    {
     "name": "stdout",
     "output_type": "stream",
     "text": [
      "Accuracy: 0.853 (0.036)\n"
     ]
    }
   ],
   "source": [
    "X, y = make_classification(n_samples=1000, n_features=20, \n",
    "                           n_informative=15, n_redundant=5, \n",
    "                           random_state=7)\n",
    "\n",
    "scaler = MinMaxScaler()\n",
    "X = scaler.fit_transform(X)\n",
    "\n",
    "model = LogisticRegression()\n",
    "\n",
    "cv = RepeatedStratifiedKFold(n_splits=10, n_repeats=3, random_state=1)\n",
    "\n",
    "scores = cross_val_score(model, X, y, scoring='accuracy', cv=cv ) #, n_jobs=-1)\n",
    "\n",
    "print('Accuracy: %.3f (%.3f)' % (scores.mean(), scores.std()))"
   ]
  },
  {
   "cell_type": "code",
   "execution_count": null,
   "metadata": {
    "id": "0xHk4G4KAiFW",
    "outputId": "047d160d-d92c-4810-a565-7fa5d7e6225c",
    "scrolled": true
   },
   "outputs": [
    {
     "data": {
      "text/plain": [
       "(array([0.86, 0.91, 0.88, 0.81, 0.83, 0.84, 0.81, 0.84, 0.88, 0.84, 0.84,\n",
       "        0.86, 0.85, 0.83, 0.89, 0.87, 0.79, 0.97, 0.84, 0.84, 0.81, 0.88,\n",
       "        0.8 , 0.85, 0.89, 0.88, 0.87, 0.83, 0.83, 0.87]),\n",
       " 30)"
      ]
     },
     "execution_count": 6,
     "metadata": {},
     "output_type": "execute_result"
    }
   ],
   "source": [
    "scores, len(scores)"
   ]
  },
  {
   "cell_type": "markdown",
   "metadata": {
    "id": "0Lmoy9pMAiFX"
   },
   "source": [
    "### Use a Pipeline to avoid data leakage during k-fold CV"
   ]
  },
  {
   "cell_type": "code",
   "execution_count": 6,
   "metadata": {
    "id": "ocQy_lUBAiFY",
    "outputId": "3ef61072-29c7-47ce-fe66-7bcc098c5935"
   },
   "outputs": [
    {
     "name": "stdout",
     "output_type": "stream",
     "text": [
      "Accuracy: 0.854 (0.035)\n"
     ]
    }
   ],
   "source": [
    "from sklearn.pipeline import Pipeline\n",
    "\n",
    "X, y = make_classification(n_samples=1000, n_features=20, \n",
    "                           n_informative=15, n_redundant=5, \n",
    "                           random_state=7)\n",
    "\n",
    "pipe = Pipeline(steps = \n",
    "                [('scaler', MinMaxScaler()),\n",
    "                 ('model', LogisticRegression())])\n",
    "\n",
    "cv = RepeatedStratifiedKFold(n_splits=10, n_repeats=3, random_state=1) #ensures variable proportions are preserved in train/test. like men/women. removes bias.\n",
    "\n",
    "scores = cross_val_score(pipe, X, y, scoring='accuracy', cv=cv, n_jobs=-1)\n",
    "\n",
    "print('Accuracy: %.3f (%.3f)' % (scores.mean(), scores.std()))"
   ]
  },
  {
   "cell_type": "code",
   "execution_count": null,
   "metadata": {
    "id": "VCVlqbQUAiFY"
   },
   "outputs": [],
   "source": []
  }
 ],
 "metadata": {
  "colab": {
   "name": "01-Avoiding-Data-Leakage.ipynb",
   "provenance": []
  },
  "kernelspec": {
   "display_name": "Python 3 (ipykernel)",
   "language": "python",
   "name": "python3"
  },
  "language_info": {
   "codemirror_mode": {
    "name": "ipython",
    "version": 3
   },
   "file_extension": ".py",
   "mimetype": "text/x-python",
   "name": "python",
   "nbconvert_exporter": "python",
   "pygments_lexer": "ipython3",
   "version": "3.9.13"
  }
 },
 "nbformat": 4,
 "nbformat_minor": 1
}
